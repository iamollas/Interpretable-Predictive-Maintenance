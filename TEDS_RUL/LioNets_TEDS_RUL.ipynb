{
 "cells": [
  {
   "cell_type": "markdown",
   "metadata": {},
   "source": [
    "# LioNets: Turbofan Engine Degradation Simulation Dataset with Neural Networks\n",
    "\n",
    "In this notebook, we present how LioNets can be applied in predictive models using time series data."
   ]
  },
  {
   "cell_type": "code",
   "execution_count": 1,
   "metadata": {},
   "outputs": [],
   "source": [
    "import sys\n",
    "\n",
    "if not sys.warnoptions:\n",
    "    import warnings\n",
    "    warnings.simplefilter(\"ignore\")"
   ]
  },
  {
   "cell_type": "code",
   "execution_count": 2,
   "metadata": {},
   "outputs": [
    {
     "name": "stderr",
     "output_type": "stream",
     "text": [
      "Using TensorFlow backend.\n"
     ]
    }
   ],
   "source": [
    "%matplotlib inline\n",
    "from IPython.display import Image\n",
    "from IPython.display import SVG\n",
    "from IPython.display import display                               \n",
    "from ipywidgets import interactive\n",
    "import matplotlib.pyplot as plt\n",
    "from collections import OrderedDict\n",
    "import pandas as pd\n",
    "import seaborn as sns\n",
    "import numpy as np\n",
    "import random\n",
    "import re\n",
    "from math import sqrt, exp, log\n",
    "from sklearn.linear_model import Lasso, Ridge, RidgeCV, SGDRegressor\n",
    "from sklearn.preprocessing import MinMaxScaler\n",
    "from sklearn.metrics.pairwise import pairwise_distances\n",
    "from sklearn.metrics import mean_absolute_error, mean_squared_error, r2_score, f1_score, balanced_accuracy_score, accuracy_score\n",
    "import keras\n",
    "import keras.backend as K\n",
    "from keras.callbacks import ModelCheckpoint\n",
    "from keras.models import Sequential, Model\n",
    "from keras.layers import Dense, Activation, TimeDistributed, RepeatVector, Flatten, Input, Dropout, LSTM, concatenate, Reshape, Conv1D, GlobalMaxPool1D\n",
    "from keras.utils import plot_model\n",
    "\n",
    "from lionets import LioNets\n",
    "from nbeats_keras.model import NBeatsNet\n",
    "from Interpretable_PCA import iPCA\n",
    "from altruist.altruist import Altruist\n",
    "from utilities.evaluation import Evaluation\n",
    "from utilities.load_dataset import Load_Dataset\n",
    "\n",
    "from lime.lime_text import LimeTextExplainer\n",
    "from lime.lime_tabular import LimeTabularExplainer"
   ]
  },
  {
   "cell_type": "markdown",
   "metadata": {},
   "source": [
    "First of all, we load and clean our data."
   ]
  },
  {
   "cell_type": "code",
   "execution_count": 3,
   "metadata": {},
   "outputs": [],
   "source": [
    "fm, feature_names = Load_Dataset.load_data_turbofan(False)\n",
    "\n",
    "fm1_train = fm['FaultMode1']['df_train']\n",
    "fm1_train_target = fm1_train['RUL'].values\n",
    "fm1_test= fm['FaultMode1']['df_test']\n",
    "fm1_test_target = fm1_test['RUL'].values"
   ]
  },
  {
   "cell_type": "markdown",
   "metadata": {},
   "source": [
    "We are dropping some unecessary features."
   ]
  },
  {
   "cell_type": "code",
   "execution_count": 4,
   "metadata": {},
   "outputs": [],
   "source": [
    "LSTM_train = fm1_train.drop(columns=['t', 'os_1', 'os_2', 'os_3', 's_01', 's_05', 's_06', 's_10', 's_16', 's_18', 's_19', 's_22', 's_23', 's_24', 's_25', 's_26'])\n",
    "LSTM_test = fm1_test.drop(columns=['t', 'os_1', 'os_2', 'os_3', 's_01', 's_05', 's_06', 's_10', 's_16', 's_18', 's_19', 's_22', 's_23', 's_24', 's_25', 's_26'])"
   ]
  },
  {
   "cell_type": "markdown",
   "metadata": {
    "collapsed": true
   },
   "source": [
    "We collect the different units, in order to the next steps to create time windows"
   ]
  },
  {
   "cell_type": "code",
   "execution_count": 5,
   "metadata": {},
   "outputs": [],
   "source": [
    "train_units = set(LSTM_train['u'].values)\n",
    "test_units = set(LSTM_test['u'].values)"
   ]
  },
  {
   "cell_type": "markdown",
   "metadata": {},
   "source": [
    "We are scaling our data per feature"
   ]
  },
  {
   "cell_type": "code",
   "execution_count": 6,
   "metadata": {},
   "outputs": [],
   "source": [
    "sensors = ['s_02', 's_03', 's_04', 's_07', 's_08', 's_09', 's_11', 's_12',\n",
    "            's_13', 's_14', 's_15', 's_17', 's_20', 's_21']\n",
    "scalers = {}\n",
    "for column in sensors:\n",
    "    scaler = MinMaxScaler(feature_range=(0,1))\n",
    "    LSTM_train[column] = scaler.fit_transform(LSTM_train[column].values.reshape(-1,1))\n",
    "    LSTM_test[column] = scaler.transform(LSTM_test[column].values.reshape(-1,1))\n",
    "    scalers[column] = scaler"
   ]
  },
  {
   "cell_type": "markdown",
   "metadata": {},
   "source": [
    "We create time windows with a specific size. In this example, we create time windows of 50 timesteps."
   ]
  },
  {
   "cell_type": "code",
   "execution_count": 7,
   "metadata": {},
   "outputs": [],
   "source": [
    "unit_scalers = {}\n",
    "window = 50\n",
    "temp_LSTM_x_train = []\n",
    "LSTM_y_train = []\n",
    "for unit in train_units:\n",
    "    temp_unit = LSTM_train[LSTM_train['u']==unit].drop(columns=['u','RUL']).values\n",
    "    temp_unit_RUL = LSTM_train[LSTM_train['u']==unit]['RUL'].values\n",
    "    \n",
    "    for i in range(len(temp_unit) - window + 1):#elekse edw an len temp_unit - window > 0\n",
    "        temp_instance = []\n",
    "        for j in range(window):\n",
    "            temp_instance.append(temp_unit[i+j])\n",
    "        temp_LSTM_x_train.append(np.array(temp_instance))\n",
    "        LSTM_y_train.append(temp_unit_RUL[i+window-1])\n",
    "LSTM_y_train = np.array(LSTM_y_train)\n",
    "LSTM_x_train = np.array(temp_LSTM_x_train)\n",
    "\n",
    "temp_LSTM_x_test = []\n",
    "LSTM_y_test = []\n",
    "for unit in test_units:\n",
    "    temp_unit = LSTM_test[LSTM_test['u']==unit].drop(columns=['u','RUL']).values\n",
    "    temp_unit_RUL = LSTM_test[LSTM_test['u']==unit]['RUL'].values\n",
    "        \n",
    "    for i in range(len(temp_unit) - window + 1):#elekse edw an len temp_unit - window > 0\n",
    "        temp_instance = []\n",
    "        for j in range(window):\n",
    "            temp_instance.append(temp_unit[i+j])\n",
    "        temp_LSTM_x_test.append(np.array(temp_instance))\n",
    "        LSTM_y_test.append(temp_unit_RUL[i+window-1])\n",
    "LSTM_y_test = np.array(LSTM_y_test)\n",
    "LSTM_x_test = np.array(temp_LSTM_x_test)"
   ]
  },
  {
   "cell_type": "markdown",
   "metadata": {},
   "source": [
    "We can check how many train, test instances we have. These are changing regarding the time window size."
   ]
  },
  {
   "cell_type": "code",
   "execution_count": 8,
   "metadata": {},
   "outputs": [
    {
     "data": {
      "text/plain": [
       "((15731, 50, 14), (8255, 50, 14), (15731,), (8255,))"
      ]
     },
     "execution_count": 8,
     "metadata": {},
     "output_type": "execute_result"
    }
   ],
   "source": [
    "LSTM_x_train.shape, LSTM_x_test.shape, LSTM_y_train.shape, LSTM_y_test.shape"
   ]
  },
  {
   "cell_type": "markdown",
   "metadata": {},
   "source": [
    "Moreover, we scale our target data, in order to train our models faster"
   ]
  },
  {
   "cell_type": "code",
   "execution_count": 9,
   "metadata": {},
   "outputs": [],
   "source": [
    "temp_LSTM_y_train = [[i] for i in LSTM_y_train]\n",
    "temp_LSTM_y_test = [[i] for i in LSTM_y_test]\n",
    "target_scaler = MinMaxScaler()\n",
    "target_scaler.fit(temp_LSTM_y_train)\n",
    "temp_LSTM_y_train = target_scaler.transform(temp_LSTM_y_train)\n",
    "temp_LSTM_y_test = target_scaler.transform(temp_LSTM_y_test)"
   ]
  },
  {
   "cell_type": "code",
   "execution_count": 10,
   "metadata": {
    "scrolled": true
   },
   "outputs": [
    {
     "data": {
      "text/plain": [
       "(140, array([0.44871795]))"
      ]
     },
     "execution_count": 10,
     "metadata": {},
     "output_type": "execute_result"
    }
   ],
   "source": [
    "LSTM_y_train[2],temp_LSTM_y_train[2]"
   ]
  },
  {
   "cell_type": "markdown",
   "metadata": {
    "collapsed": true
   },
   "source": [
    "We need a rmse loss function too!"
   ]
  },
  {
   "cell_type": "code",
   "execution_count": 11,
   "metadata": {},
   "outputs": [],
   "source": [
    "def root_mean_squared_error(y_true, y_pred):\n",
    "    return K.sqrt(K.mean(K.square(y_pred - y_true))) "
   ]
  },
  {
   "cell_type": "markdown",
   "metadata": {},
   "source": [
    "Now, we can build our predictor"
   ]
  },
  {
   "cell_type": "code",
   "execution_count": 12,
   "metadata": {
    "scrolled": true
   },
   "outputs": [
    {
     "name": "stdout",
     "output_type": "stream",
     "text": [
      "WARNING:tensorflow:From C:\\Users\\spgen\\Anaconda3\\lib\\site-packages\\tensorflow\\python\\framework\\op_def_library.py:263: colocate_with (from tensorflow.python.framework.ops) is deprecated and will be removed in a future version.\n",
      "Instructions for updating:\n",
      "Colocations handled automatically by placer.\n",
      "WARNING:tensorflow:From C:\\Users\\spgen\\Anaconda3\\lib\\site-packages\\keras\\backend\\tensorflow_backend.py:3445: calling dropout (from tensorflow.python.ops.nn_ops) with keep_prob is deprecated and will be removed in a future version.\n",
      "Instructions for updating:\n",
      "Please use `rate` instead of `keep_prob`. Rate should be set to `rate = 1 - keep_prob`.\n"
     ]
    }
   ],
   "source": [
    "feature_names = fm1_train.columns\n",
    "encoder_input = Input(shape=(LSTM_x_train[0].shape))\n",
    "\n",
    "encoder_x = LSTM(units=80, return_sequences=True, activation='tanh')(encoder_input)\n",
    "encoder_x = Dropout(0.7)(encoder_x)\n",
    "encoder_x = LSTM(units=40, return_sequences=False, activation='tanh')(encoder_x)\n",
    "\n",
    "encoder_y = Conv1D(filters=40,kernel_size=3,activation='tanh')(encoder_input)\n",
    "encoder_y = GlobalMaxPool1D()(encoder_y)\n",
    "\n",
    "encoded = concatenate([encoder_x,encoder_y])\n",
    "encoded = Dropout(0.7)(encoded)\n",
    "encoded = Dense(80, activation='tanh')(encoded)#Relu and selu\n",
    "encoded = Dropout(0.7)(encoded)\n",
    "encoded = Dense(40, activation='tanh')(encoded)#Relu and selu\n",
    "predictions = Dense(1, activation='sigmoid')(encoded)#Relu and selu\n",
    "predictor = Model(encoder_input,predictions)\n",
    "\n",
    "predictor.compile(optimizer=\"adam\",loss=[root_mean_squared_error],metrics=['mae','mse'])\n",
    "#print(predictor.summary())\n",
    "\n",
    "checkpoint_name = 'TEDS_Predictor_RUL.hdf5' \n",
    "checkpoint = ModelCheckpoint(checkpoint_name, monitor='val_loss', verbose = 2, save_best_only = True, mode ='auto')"
   ]
  },
  {
   "cell_type": "markdown",
   "metadata": {},
   "source": [
    "Then, we train the predictor."
   ]
  },
  {
   "cell_type": "code",
   "execution_count": 13,
   "metadata": {
    "scrolled": true
   },
   "outputs": [],
   "source": [
    "#predictor.fit(LSTM_x_train, temp_LSTM_y_train, epochs=500, batch_size=512, shuffle=True, validation_split=0.33, verbose=2, callbacks=[checkpoint])"
   ]
  },
  {
   "cell_type": "markdown",
   "metadata": {},
   "source": [
    "We load our weights, and we measure the performance."
   ]
  },
  {
   "cell_type": "code",
   "execution_count": 14,
   "metadata": {},
   "outputs": [],
   "source": [
    "weights_file = 'weights/TEDS_Predictor_RUL.hdf5' # choose the best checkpoint few features\n",
    "predictor.load_weights(weights_file) # load it\n",
    "predictor.compile(optimizer=\"adam\",loss=[root_mean_squared_error],metrics=['mae','mse'])"
   ]
  },
  {
   "cell_type": "code",
   "execution_count": 15,
   "metadata": {},
   "outputs": [
    {
     "name": "stdout",
     "output_type": "stream",
     "text": [
      "Train: 11.486946112474099 321.77211100790623 17.938007442520092\n",
      "0.9022143936099378\n"
     ]
    }
   ],
   "source": [
    "temp_pred = target_scaler.inverse_transform(predictor.predict(LSTM_x_train))\n",
    "predictions = [i[0] for i in temp_pred]\n",
    "print('Train:',mean_absolute_error(LSTM_y_train,predictions),mean_squared_error(LSTM_y_train,predictions),sqrt(mean_squared_error(LSTM_y_train,predictions)))\n",
    "print(r2_score(LSTM_y_train,predictions))"
   ]
  },
  {
   "cell_type": "code",
   "execution_count": 16,
   "metadata": {},
   "outputs": [
    {
     "name": "stdout",
     "output_type": "stream",
     "text": [
      "Test: 22.958150270648034 1030.8807520057308 32.107331748460986\n",
      "0.6217281552452669\n"
     ]
    }
   ],
   "source": [
    "temp_pred = target_scaler.inverse_transform(predictor.predict(LSTM_x_test))\n",
    "predictions = [i[0] for i in temp_pred]\n",
    "print('Test:',mean_absolute_error(LSTM_y_test,predictions),mean_squared_error(LSTM_y_test,predictions),sqrt(mean_squared_error(LSTM_y_test,predictions)))\n",
    "print(r2_score(LSTM_y_test,predictions))"
   ]
  },
  {
   "cell_type": "markdown",
   "metadata": {},
   "source": [
    "Then, we have to extract the encoder from our predictor."
   ]
  },
  {
   "cell_type": "code",
   "execution_count": 17,
   "metadata": {
    "scrolled": true
   },
   "outputs": [],
   "source": [
    "encoder = Model(input=predictor.input, output=[predictor.layers[-2].output])\n",
    "encoder.trainable = False\n",
    "encoder.compile(optimizer=\"adam\",loss=[root_mean_squared_error],metrics=['mae','mse'])\n",
    "#encoder.summary()"
   ]
  },
  {
   "cell_type": "markdown",
   "metadata": {},
   "source": [
    "Now we are ready to extract for all instances, their encoded representation"
   ]
  },
  {
   "cell_type": "code",
   "execution_count": 18,
   "metadata": {},
   "outputs": [],
   "source": [
    "encoded_LSTM_x_train = encoder.predict(LSTM_x_train)\n",
    "encoded_LSTM_x_test = encoder.predict(LSTM_x_test)"
   ]
  },
  {
   "cell_type": "markdown",
   "metadata": {},
   "source": [
    "And by that, we build the decoder."
   ]
  },
  {
   "cell_type": "code",
   "execution_count": 19,
   "metadata": {},
   "outputs": [],
   "source": [
    "encoded_input = Input(shape=(encoded_LSTM_x_train[0].shape))\n",
    "decoded = Dense(120, activation='tanh')(encoded_input)\n",
    "decoded = Dropout(0.5)(decoded)\n",
    "\n",
    "decoded_y = RepeatVector(54)(decoded)\n",
    "decoded_y = Conv1D(filters=50,kernel_size=5,activation='tanh')(decoded_y)\n",
    "\n",
    "decoded_x = RepeatVector(50)(decoded)\n",
    "decoded_x = LSTM(units=80, return_sequences=True, activation='tanh')(decoded_x)\n",
    "decoded_x = Dropout(0.5)(decoded_x)\n",
    "decoded_x = LSTM(units=50, return_sequences=True, activation='tanh')(decoded_x)\n",
    "\n",
    "decoded = concatenate([decoded_x,decoded_y])\n",
    "decoded = LSTM(50, return_sequences=True, activation='sigmoid')(decoded)\n",
    "decoded = Dropout(0.5)(decoded)\n",
    "decoded = LSTM(14, return_sequences=True, activation='sigmoid')(decoded)\n",
    "\n",
    "decoder = Model(encoded_input,decoded)\n",
    "\n",
    "decoder.compile(optimizer=\"adam\",loss=[root_mean_squared_error],metrics=['mae','mse'])\n",
    "#print(decoder.summary())\n",
    "\n",
    "checkpoint_name = 'TEDS_Decoder_RUL.hdf5' \n",
    "checkpoint = ModelCheckpoint(checkpoint_name, monitor='val_loss', verbose = 2, save_best_only = True, mode ='auto')"
   ]
  },
  {
   "cell_type": "code",
   "execution_count": 20,
   "metadata": {},
   "outputs": [],
   "source": [
    "#decoder.fit(encoded_LSTM_x_train, LSTM_x_train, epochs=100, batch_size=2048, shuffle=True, validation_split=0.2, verbose=2, callbacks=[checkpoint])"
   ]
  },
  {
   "cell_type": "code",
   "execution_count": 21,
   "metadata": {},
   "outputs": [],
   "source": [
    "weights_file = 'weights/TEDS_Decoder_RUL.hdf5' # choose the best checkpoint few features\n",
    "decoder.load_weights(weights_file) # load it\n",
    "decoder.compile(optimizer=\"adam\",loss=[root_mean_squared_error],metrics=['mae','mse'])"
   ]
  },
  {
   "cell_type": "code",
   "execution_count": 22,
   "metadata": {},
   "outputs": [],
   "source": [
    "#rmse, mae, mse\n",
    "# decoder.evaluate(encoded_LSTM_x_train,LSTM_x_train)"
   ]
  },
  {
   "cell_type": "code",
   "execution_count": 23,
   "metadata": {},
   "outputs": [],
   "source": [
    "# decoder.evaluate(encoded_LSTM_x_test,LSTM_x_test)"
   ]
  },
  {
   "cell_type": "markdown",
   "metadata": {},
   "source": [
    "---\n",
    "# Forecasters\n",
    "\n",
    "Here we propose some forecasting options that are going to be implemented in the IML tool."
   ]
  },
  {
   "cell_type": "markdown",
   "metadata": {},
   "source": [
    "## Basic Neural Forecaster"
   ]
  },
  {
   "cell_type": "code",
   "execution_count": 24,
   "metadata": {},
   "outputs": [],
   "source": [
    "window = 50\n",
    "forecast_timesteps = 5\n",
    "\n",
    "temp_fc_x_train = []\n",
    "temp_fc_y_train = []\n",
    "for unit in train_units:\n",
    "    temp_unit = LSTM_train[LSTM_train['u']==unit].drop(columns=['u','RUL']).values\n",
    "   \n",
    "    for i in range(len(temp_unit) - window - forecast_timesteps + 1):#elekse edw an len temp_unit - window > 0\n",
    "        temp_instance_x = []\n",
    "        temp_instance_y = []\n",
    "        for j in range(window):\n",
    "            temp_instance_x.append(temp_unit[i+j])\n",
    "        for z in range(forecast_timesteps):\n",
    "            temp_instance_y.append(temp_unit[i+j+z+1])            \n",
    "        temp_fc_x_train.append(np.array(temp_instance_x))\n",
    "        temp_fc_y_train.append(np.array(temp_instance_y))       \n",
    "fc_x_train = np.array(temp_fc_x_train)\n",
    "fc_y_train = np.array(temp_fc_y_train)\n",
    "\n",
    "temp_fc_x_test = []\n",
    "temp_fc_y_test = []\n",
    "for unit in test_units:\n",
    "    temp_unit = LSTM_test[LSTM_test['u']==unit].drop(columns=['u','RUL']).values\n",
    "        \n",
    "    for i in range(len(temp_unit) - window - forecast_timesteps + 1):#elekse edw an len temp_unit - window > 0\n",
    "        temp_instance_x = []\n",
    "        temp_instance_y = []\n",
    "        for j in range(window):\n",
    "            temp_instance_x.append(temp_unit[i+j])\n",
    "        for z in range(forecast_timesteps):\n",
    "            temp_instance_y.append(temp_unit[i+j+z+1])            \n",
    "        temp_fc_x_test.append(np.array(temp_instance_x))\n",
    "        temp_fc_y_test.append(np.array(temp_instance_y))       \n",
    "fc_x_test = np.array(temp_fc_x_test)\n",
    "fc_y_test = np.array(temp_fc_y_test)"
   ]
  },
  {
   "cell_type": "code",
   "execution_count": 25,
   "metadata": {},
   "outputs": [
    {
     "data": {
      "text/plain": [
       "((15231, 50, 14), (7794, 50, 14), (15231, 5, 14), (7794, 5, 14))"
      ]
     },
     "execution_count": 25,
     "metadata": {},
     "output_type": "execute_result"
    }
   ],
   "source": [
    "fc_x_train.shape, fc_x_test.shape, fc_y_train.shape, fc_y_test.shape"
   ]
  },
  {
   "cell_type": "code",
   "execution_count": 26,
   "metadata": {
    "scrolled": true
   },
   "outputs": [
    {
     "name": "stdout",
     "output_type": "stream",
     "text": [
      "__________________________________________________________________________________________________\n",
      "Layer (type)                    Output Shape         Param #     Connected to                     \n",
      "==================================================================================================\n",
      "input_3 (InputLayer)            (None, 50, 14)       0                                            \n",
      "__________________________________________________________________________________________________\n",
      "lstm_7 (LSTM)                   (None, 50, 120)      64800       input_3[0][0]                    \n",
      "__________________________________________________________________________________________________\n",
      "dropout_7 (Dropout)             (None, 50, 120)      0           lstm_7[0][0]                     \n",
      "__________________________________________________________________________________________________\n",
      "lstm_8 (LSTM)                   (None, 50, 50)       34200       dropout_7[0][0]                  \n",
      "__________________________________________________________________________________________________\n",
      "conv1d_4 (Conv1D)               (None, 5, 50)        32250       input_3[0][0]                    \n",
      "__________________________________________________________________________________________________\n",
      "conv1d_3 (Conv1D)               (None, 5, 50)        115050      lstm_8[0][0]                     \n",
      "__________________________________________________________________________________________________\n",
      "concatenate_3 (Concatenate)     (None, 5, 100)       0           conv1d_4[0][0]                   \n",
      "                                                                 conv1d_3[0][0]                   \n",
      "__________________________________________________________________________________________________\n",
      "dropout_8 (Dropout)             (None, 5, 100)       0           concatenate_3[0][0]              \n",
      "__________________________________________________________________________________________________\n",
      "lstm_9 (LSTM)                   (None, 5, 40)        22560       dropout_8[0][0]                  \n",
      "__________________________________________________________________________________________________\n",
      "dropout_9 (Dropout)             (None, 5, 40)        0           lstm_9[0][0]                     \n",
      "__________________________________________________________________________________________________\n",
      "lstm_10 (LSTM)                  (None, 5, 14)        3080        dropout_9[0][0]                  \n",
      "==================================================================================================\n",
      "Total params: 271,940\n",
      "Trainable params: 271,940\n",
      "Non-trainable params: 0\n",
      "__________________________________________________________________________________________________\n"
     ]
    }
   ],
   "source": [
    "forecast_input = Input(shape=(LSTM_x_train[0].shape))\n",
    "\n",
    "forecast_x = LSTM(units=120, return_sequences=True, activation='tanh')(forecast_input)\n",
    "forecast_x = Dropout(0.7)(forecast_x)\n",
    "forecast_x = LSTM(units=50, return_sequences=True, activation='tanh')(forecast_x)\n",
    "forecast_x = Conv1D(filters=50,kernel_size=46,activation='tanh')(forecast_x)\n",
    "\n",
    "forecast_y = Conv1D(filters=50,kernel_size=46,activation='tanh')(forecast_input)\n",
    "\n",
    "forecast = concatenate([forecast_y,forecast_x])\n",
    "forecast = Dropout(0.7)(forecast)\n",
    "forecast = LSTM(40, return_sequences=True, activation='relu')(forecast)#Relu and selu\n",
    "forecast = Dropout(0.7)(forecast)\n",
    "predictions = LSTM(14, return_sequences=True, activation='linear')(forecast)#Relu and selu\n",
    "forecaster = Model(forecast_input,predictions)\n",
    "forecaster.summary()\n",
    "forecaster.compile(optimizer=\"adam\", loss=[root_mean_squared_error],metrics=['mae','mse'])\n",
    "\n",
    "checkpoint_name = 'weights/TEDS_Forecaster_RUL.hdf5'\n",
    "checkpoint = ModelCheckpoint(checkpoint_name, monitor='val_loss', verbose = 2, save_best_only = True, mode ='auto')"
   ]
  },
  {
   "cell_type": "code",
   "execution_count": 27,
   "metadata": {},
   "outputs": [],
   "source": [
    "# forecaster.fit(fc_x_train, fc_y_train, epochs=250, batch_size=512, shuffle=True, validation_split=0.3, verbose=2, callbacks=[checkpoint])"
   ]
  },
  {
   "cell_type": "code",
   "execution_count": 28,
   "metadata": {
    "scrolled": true
   },
   "outputs": [],
   "source": [
    "weights_file = 'weights/TEDS_Forecaster_RUL.hdf5' # choose the best checkpoint few features\n",
    "forecaster.load_weights(weights_file) # load it\n",
    "forecaster.compile(optimizer=\"adam\",loss=[root_mean_squared_error],metrics=['mae','mse'])"
   ]
  },
  {
   "cell_type": "code",
   "execution_count": 29,
   "metadata": {},
   "outputs": [
    {
     "name": "stdout",
     "output_type": "stream",
     "text": [
      "Train: 0.05301874834831075 0.004864156445715008 0.06974350468477339\n",
      "0.7355894053201308\n"
     ]
    }
   ],
   "source": [
    "predictions = forecaster.predict(fc_x_train)\n",
    "print('Train:',mean_absolute_error(fc_y_train.reshape(-1,70),predictions.reshape(-1,70)),mean_squared_error(fc_y_train.reshape(-1,70),predictions.reshape(-1,70)),sqrt(mean_squared_error(fc_y_train.reshape(-1,70),predictions.reshape(-1,70))))\n",
    "print(r2_score(fc_y_train.reshape(-1,70),predictions.reshape(-1,70)))"
   ]
  },
  {
   "cell_type": "code",
   "execution_count": 30,
   "metadata": {},
   "outputs": [
    {
     "name": "stdout",
     "output_type": "stream",
     "text": [
      "Test: 0.05329821010757238 0.004916158172408367 0.07011532052560529\n",
      "0.5724395889274646\n"
     ]
    }
   ],
   "source": [
    "predictions = forecaster.predict(fc_x_test)\n",
    "print('Test:',mean_absolute_error(fc_y_test.reshape(-1,70),predictions.reshape(-1,70)),mean_squared_error(fc_y_test.reshape(-1,70),predictions.reshape(-1,70)),sqrt(mean_squared_error(fc_y_test.reshape(-1,70),predictions.reshape(-1,70))))\n",
    "print(r2_score(fc_y_test.reshape(-1,70),predictions.reshape(-1,70)))"
   ]
  },
  {
   "cell_type": "markdown",
   "metadata": {},
   "source": [
    "---\n",
    "## N-Beats"
   ]
  },
  {
   "cell_type": "code",
   "execution_count": 31,
   "metadata": {},
   "outputs": [
    {
     "name": "stdout",
     "output_type": "stream",
     "text": [
      "__________________________________________________________________________________________________\n",
      "Layer (type)                    Output Shape         Param #     Connected to                     \n",
      "==================================================================================================\n",
      "input_variable (InputLayer)     (None, 50, 14)       0                                            \n",
      "__________________________________________________________________________________________________\n",
      "lambda_1 (Lambda)               (None, 50)           0           input_variable[0][0]             \n",
      "__________________________________________________________________________________________________\n",
      "0/0/generic/d1 (Dense)          (None, 64)           3264        lambda_1[0][0]                   \n",
      "                                                                 lambda_2[0][0]                   \n",
      "                                                                 lambda_3[0][0]                   \n",
      "                                                                 lambda_4[0][0]                   \n",
      "                                                                 lambda_5[0][0]                   \n",
      "                                                                 lambda_6[0][0]                   \n",
      "                                                                 lambda_7[0][0]                   \n",
      "                                                                 lambda_8[0][0]                   \n",
      "                                                                 lambda_9[0][0]                   \n",
      "                                                                 lambda_10[0][0]                  \n",
      "                                                                 lambda_11[0][0]                  \n",
      "                                                                 lambda_12[0][0]                  \n",
      "                                                                 lambda_13[0][0]                  \n",
      "                                                                 lambda_14[0][0]                  \n",
      "                                                                 subtract_1[0][0]                 \n",
      "                                                                 subtract_2[0][0]                 \n",
      "                                                                 subtract_3[0][0]                 \n",
      "                                                                 subtract_4[0][0]                 \n",
      "                                                                 subtract_5[0][0]                 \n",
      "                                                                 subtract_6[0][0]                 \n",
      "                                                                 subtract_7[0][0]                 \n",
      "                                                                 subtract_8[0][0]                 \n",
      "                                                                 subtract_9[0][0]                 \n",
      "                                                                 subtract_10[0][0]                \n",
      "                                                                 subtract_11[0][0]                \n",
      "                                                                 subtract_12[0][0]                \n",
      "                                                                 subtract_13[0][0]                \n",
      "                                                                 subtract_14[0][0]                \n",
      "__________________________________________________________________________________________________\n",
      "0/0/generic/d2 (Dense)          (None, 64)           4160        0/0/generic/d1[0][0]             \n",
      "                                                                 0/0/generic/d1[1][0]             \n",
      "                                                                 0/0/generic/d1[2][0]             \n",
      "                                                                 0/0/generic/d1[3][0]             \n",
      "                                                                 0/0/generic/d1[4][0]             \n",
      "                                                                 0/0/generic/d1[5][0]             \n",
      "                                                                 0/0/generic/d1[6][0]             \n",
      "                                                                 0/0/generic/d1[7][0]             \n",
      "                                                                 0/0/generic/d1[8][0]             \n",
      "                                                                 0/0/generic/d1[9][0]             \n",
      "                                                                 0/0/generic/d1[10][0]            \n",
      "                                                                 0/0/generic/d1[11][0]            \n",
      "                                                                 0/0/generic/d1[12][0]            \n",
      "                                                                 0/0/generic/d1[13][0]            \n",
      "                                                                 0/0/generic/d1[14][0]            \n",
      "                                                                 0/0/generic/d1[15][0]            \n",
      "                                                                 0/0/generic/d1[16][0]            \n",
      "                                                                 0/0/generic/d1[17][0]            \n",
      "                                                                 0/0/generic/d1[18][0]            \n",
      "                                                                 0/0/generic/d1[19][0]            \n",
      "                                                                 0/0/generic/d1[20][0]            \n",
      "                                                                 0/0/generic/d1[21][0]            \n",
      "                                                                 0/0/generic/d1[22][0]            \n",
      "                                                                 0/0/generic/d1[23][0]            \n",
      "                                                                 0/0/generic/d1[24][0]            \n",
      "                                                                 0/0/generic/d1[25][0]            \n",
      "                                                                 0/0/generic/d1[26][0]            \n",
      "                                                                 0/0/generic/d1[27][0]            \n",
      "__________________________________________________________________________________________________\n",
      "0/0/generic/d3 (Dense)          (None, 64)           4160        0/0/generic/d2[0][0]             \n",
      "                                                                 0/0/generic/d2[1][0]             \n",
      "                                                                 0/0/generic/d2[2][0]             \n",
      "                                                                 0/0/generic/d2[3][0]             \n",
      "                                                                 0/0/generic/d2[4][0]             \n",
      "                                                                 0/0/generic/d2[5][0]             \n",
      "                                                                 0/0/generic/d2[6][0]             \n",
      "                                                                 0/0/generic/d2[7][0]             \n",
      "                                                                 0/0/generic/d2[8][0]             \n",
      "                                                                 0/0/generic/d2[9][0]             \n",
      "                                                                 0/0/generic/d2[10][0]            \n",
      "                                                                 0/0/generic/d2[11][0]            \n",
      "                                                                 0/0/generic/d2[12][0]            \n",
      "                                                                 0/0/generic/d2[13][0]            \n",
      "                                                                 0/0/generic/d2[14][0]            \n",
      "                                                                 0/0/generic/d2[15][0]            \n",
      "                                                                 0/0/generic/d2[16][0]            \n",
      "                                                                 0/0/generic/d2[17][0]            \n",
      "                                                                 0/0/generic/d2[18][0]            \n",
      "                                                                 0/0/generic/d2[19][0]            \n",
      "                                                                 0/0/generic/d2[20][0]            \n",
      "                                                                 0/0/generic/d2[21][0]            \n",
      "                                                                 0/0/generic/d2[22][0]            \n",
      "                                                                 0/0/generic/d2[23][0]            \n",
      "                                                                 0/0/generic/d2[24][0]            \n",
      "                                                                 0/0/generic/d2[25][0]            \n",
      "                                                                 0/0/generic/d2[26][0]            \n",
      "                                                                 0/0/generic/d2[27][0]            \n",
      "__________________________________________________________________________________________________\n",
      "0/0/generic/d4 (Dense)          (None, 64)           4160        0/0/generic/d3[0][0]             \n",
      "                                                                 0/0/generic/d3[1][0]             \n",
      "                                                                 0/0/generic/d3[2][0]             \n",
      "                                                                 0/0/generic/d3[3][0]             \n",
      "                                                                 0/0/generic/d3[4][0]             \n",
      "                                                                 0/0/generic/d3[5][0]             \n",
      "                                                                 0/0/generic/d3[6][0]             \n",
      "                                                                 0/0/generic/d3[7][0]             \n",
      "                                                                 0/0/generic/d3[8][0]             \n",
      "                                                                 0/0/generic/d3[9][0]             \n",
      "                                                                 0/0/generic/d3[10][0]            \n",
      "                                                                 0/0/generic/d3[11][0]            \n",
      "                                                                 0/0/generic/d3[12][0]            \n",
      "                                                                 0/0/generic/d3[13][0]            \n",
      "                                                                 0/0/generic/d3[14][0]            \n",
      "                                                                 0/0/generic/d3[15][0]            \n",
      "                                                                 0/0/generic/d3[16][0]            \n",
      "                                                                 0/0/generic/d3[17][0]            \n",
      "                                                                 0/0/generic/d3[18][0]            \n",
      "                                                                 0/0/generic/d3[19][0]            \n",
      "                                                                 0/0/generic/d3[20][0]            \n",
      "                                                                 0/0/generic/d3[21][0]            \n",
      "                                                                 0/0/generic/d3[22][0]            \n",
      "                                                                 0/0/generic/d3[23][0]            \n",
      "                                                                 0/0/generic/d3[24][0]            \n",
      "                                                                 0/0/generic/d3[25][0]            \n",
      "                                                                 0/0/generic/d3[26][0]            \n",
      "                                                                 0/0/generic/d3[27][0]            \n",
      "__________________________________________________________________________________________________\n",
      "0/0/generic/theta_b (Dense)     (None, 4)            256         0/0/generic/d4[0][0]             \n",
      "                                                                 0/0/generic/d4[1][0]             \n",
      "                                                                 0/0/generic/d4[2][0]             \n",
      "                                                                 0/0/generic/d4[3][0]             \n",
      "                                                                 0/0/generic/d4[4][0]             \n",
      "                                                                 0/0/generic/d4[5][0]             \n",
      "                                                                 0/0/generic/d4[6][0]             \n",
      "                                                                 0/0/generic/d4[7][0]             \n",
      "                                                                 0/0/generic/d4[8][0]             \n",
      "                                                                 0/0/generic/d4[9][0]             \n",
      "                                                                 0/0/generic/d4[10][0]            \n",
      "                                                                 0/0/generic/d4[11][0]            \n",
      "                                                                 0/0/generic/d4[12][0]            \n",
      "                                                                 0/0/generic/d4[13][0]            \n",
      "                                                                 0/0/generic/d4[14][0]            \n",
      "                                                                 0/0/generic/d4[15][0]            \n",
      "                                                                 0/0/generic/d4[16][0]            \n",
      "                                                                 0/0/generic/d4[17][0]            \n",
      "                                                                 0/0/generic/d4[18][0]            \n",
      "                                                                 0/0/generic/d4[19][0]            \n",
      "                                                                 0/0/generic/d4[20][0]            \n",
      "                                                                 0/0/generic/d4[21][0]            \n",
      "                                                                 0/0/generic/d4[22][0]            \n",
      "                                                                 0/0/generic/d4[23][0]            \n",
      "                                                                 0/0/generic/d4[24][0]            \n",
      "                                                                 0/0/generic/d4[25][0]            \n",
      "                                                                 0/0/generic/d4[26][0]            \n",
      "                                                                 0/0/generic/d4[27][0]            \n",
      "__________________________________________________________________________________________________\n",
      "0/0/generic/backcast (Dense)    (None, 50)           250         0/0/generic/theta_b[0][0]        \n",
      "                                                                 0/0/generic/theta_b[1][0]        \n",
      "                                                                 0/0/generic/theta_b[2][0]        \n",
      "                                                                 0/0/generic/theta_b[3][0]        \n",
      "                                                                 0/0/generic/theta_b[4][0]        \n",
      "                                                                 0/0/generic/theta_b[5][0]        \n",
      "                                                                 0/0/generic/theta_b[6][0]        \n",
      "                                                                 0/0/generic/theta_b[7][0]        \n",
      "                                                                 0/0/generic/theta_b[8][0]        \n",
      "                                                                 0/0/generic/theta_b[9][0]        \n",
      "                                                                 0/0/generic/theta_b[10][0]       \n",
      "                                                                 0/0/generic/theta_b[11][0]       \n",
      "                                                                 0/0/generic/theta_b[12][0]       \n",
      "                                                                 0/0/generic/theta_b[13][0]       \n",
      "                                                                 0/0/generic/theta_b[14][0]       \n",
      "                                                                 0/0/generic/theta_b[15][0]       \n",
      "                                                                 0/0/generic/theta_b[16][0]       \n",
      "                                                                 0/0/generic/theta_b[17][0]       \n",
      "                                                                 0/0/generic/theta_b[18][0]       \n",
      "                                                                 0/0/generic/theta_b[19][0]       \n",
      "                                                                 0/0/generic/theta_b[20][0]       \n",
      "                                                                 0/0/generic/theta_b[21][0]       \n",
      "                                                                 0/0/generic/theta_b[22][0]       \n",
      "                                                                 0/0/generic/theta_b[23][0]       \n",
      "                                                                 0/0/generic/theta_b[24][0]       \n",
      "                                                                 0/0/generic/theta_b[25][0]       \n",
      "                                                                 0/0/generic/theta_b[26][0]       \n",
      "                                                                 0/0/generic/theta_b[27][0]       \n",
      "__________________________________________________________________________________________________\n",
      "subtract_1 (Subtract)           (None, 50)           0           lambda_1[0][0]                   \n",
      "                                                                 0/0/generic/backcast[0][0]       \n",
      "__________________________________________________________________________________________________\n",
      "lambda_2 (Lambda)               (None, 50)           0           input_variable[0][0]             \n",
      "__________________________________________________________________________________________________\n",
      "subtract_15 (Subtract)          (None, 50)           0           subtract_1[0][0]                 \n",
      "                                                                 0/0/generic/backcast[14][0]      \n",
      "__________________________________________________________________________________________________\n",
      "subtract_2 (Subtract)           (None, 50)           0           lambda_2[0][0]                   \n",
      "                                                                 0/0/generic/backcast[1][0]       \n",
      "__________________________________________________________________________________________________\n",
      "lambda_3 (Lambda)               (None, 50)           0           input_variable[0][0]             \n",
      "__________________________________________________________________________________________________\n",
      "1/0/generic/d1 (Dense)          (None, 64)           3264        subtract_15[0][0]                \n",
      "                                                                 subtract_16[0][0]                \n",
      "                                                                 subtract_17[0][0]                \n",
      "                                                                 subtract_18[0][0]                \n",
      "                                                                 subtract_19[0][0]                \n",
      "                                                                 subtract_20[0][0]                \n",
      "                                                                 subtract_21[0][0]                \n",
      "                                                                 subtract_22[0][0]                \n",
      "                                                                 subtract_23[0][0]                \n",
      "                                                                 subtract_24[0][0]                \n",
      "                                                                 subtract_25[0][0]                \n",
      "                                                                 subtract_26[0][0]                \n",
      "                                                                 subtract_27[0][0]                \n",
      "                                                                 subtract_28[0][0]                \n",
      "                                                                 subtract_29[0][0]                \n",
      "                                                                 subtract_30[0][0]                \n",
      "                                                                 subtract_31[0][0]                \n",
      "                                                                 subtract_32[0][0]                \n",
      "                                                                 subtract_33[0][0]                \n",
      "                                                                 subtract_34[0][0]                \n",
      "                                                                 subtract_35[0][0]                \n",
      "                                                                 subtract_36[0][0]                \n",
      "                                                                 subtract_37[0][0]                \n",
      "                                                                 subtract_38[0][0]                \n",
      "                                                                 subtract_39[0][0]                \n",
      "                                                                 subtract_40[0][0]                \n",
      "                                                                 subtract_41[0][0]                \n",
      "                                                                 subtract_42[0][0]                \n",
      "__________________________________________________________________________________________________\n",
      "1/0/generic/d2 (Dense)          (None, 64)           4160        1/0/generic/d1[0][0]             \n",
      "                                                                 1/0/generic/d1[1][0]             \n",
      "                                                                 1/0/generic/d1[2][0]             \n",
      "                                                                 1/0/generic/d1[3][0]             \n",
      "                                                                 1/0/generic/d1[4][0]             \n",
      "                                                                 1/0/generic/d1[5][0]             \n",
      "                                                                 1/0/generic/d1[6][0]             \n",
      "                                                                 1/0/generic/d1[7][0]             \n",
      "                                                                 1/0/generic/d1[8][0]             \n",
      "                                                                 1/0/generic/d1[9][0]             \n",
      "                                                                 1/0/generic/d1[10][0]            \n",
      "                                                                 1/0/generic/d1[11][0]            \n",
      "                                                                 1/0/generic/d1[12][0]            \n",
      "                                                                 1/0/generic/d1[13][0]            \n",
      "                                                                 1/0/generic/d1[14][0]            \n",
      "                                                                 1/0/generic/d1[15][0]            \n",
      "                                                                 1/0/generic/d1[16][0]            \n",
      "                                                                 1/0/generic/d1[17][0]            \n",
      "                                                                 1/0/generic/d1[18][0]            \n",
      "                                                                 1/0/generic/d1[19][0]            \n",
      "                                                                 1/0/generic/d1[20][0]            \n",
      "                                                                 1/0/generic/d1[21][0]            \n",
      "                                                                 1/0/generic/d1[22][0]            \n",
      "                                                                 1/0/generic/d1[23][0]            \n",
      "                                                                 1/0/generic/d1[24][0]            \n",
      "                                                                 1/0/generic/d1[25][0]            \n",
      "                                                                 1/0/generic/d1[26][0]            \n",
      "                                                                 1/0/generic/d1[27][0]            \n",
      "__________________________________________________________________________________________________\n",
      "1/0/generic/d3 (Dense)          (None, 64)           4160        1/0/generic/d2[0][0]             \n",
      "                                                                 1/0/generic/d2[1][0]             \n",
      "                                                                 1/0/generic/d2[2][0]             \n",
      "                                                                 1/0/generic/d2[3][0]             \n",
      "                                                                 1/0/generic/d2[4][0]             \n",
      "                                                                 1/0/generic/d2[5][0]             \n",
      "                                                                 1/0/generic/d2[6][0]             \n",
      "                                                                 1/0/generic/d2[7][0]             \n",
      "                                                                 1/0/generic/d2[8][0]             \n",
      "                                                                 1/0/generic/d2[9][0]             \n",
      "                                                                 1/0/generic/d2[10][0]            \n",
      "                                                                 1/0/generic/d2[11][0]            \n",
      "                                                                 1/0/generic/d2[12][0]            \n",
      "                                                                 1/0/generic/d2[13][0]            \n",
      "                                                                 1/0/generic/d2[14][0]            \n",
      "                                                                 1/0/generic/d2[15][0]            \n",
      "                                                                 1/0/generic/d2[16][0]            \n",
      "                                                                 1/0/generic/d2[17][0]            \n",
      "                                                                 1/0/generic/d2[18][0]            \n",
      "                                                                 1/0/generic/d2[19][0]            \n",
      "                                                                 1/0/generic/d2[20][0]            \n",
      "                                                                 1/0/generic/d2[21][0]            \n",
      "                                                                 1/0/generic/d2[22][0]            \n",
      "                                                                 1/0/generic/d2[23][0]            \n",
      "                                                                 1/0/generic/d2[24][0]            \n",
      "                                                                 1/0/generic/d2[25][0]            \n",
      "                                                                 1/0/generic/d2[26][0]            \n",
      "                                                                 1/0/generic/d2[27][0]            \n",
      "__________________________________________________________________________________________________\n",
      "1/0/generic/d4 (Dense)          (None, 64)           4160        1/0/generic/d3[0][0]             \n",
      "                                                                 1/0/generic/d3[1][0]             \n",
      "                                                                 1/0/generic/d3[2][0]             \n",
      "                                                                 1/0/generic/d3[3][0]             \n",
      "                                                                 1/0/generic/d3[4][0]             \n",
      "                                                                 1/0/generic/d3[5][0]             \n",
      "                                                                 1/0/generic/d3[6][0]             \n",
      "                                                                 1/0/generic/d3[7][0]             \n",
      "                                                                 1/0/generic/d3[8][0]             \n",
      "                                                                 1/0/generic/d3[9][0]             \n",
      "                                                                 1/0/generic/d3[10][0]            \n",
      "                                                                 1/0/generic/d3[11][0]            \n",
      "                                                                 1/0/generic/d3[12][0]            \n",
      "                                                                 1/0/generic/d3[13][0]            \n",
      "                                                                 1/0/generic/d3[14][0]            \n",
      "                                                                 1/0/generic/d3[15][0]            \n",
      "                                                                 1/0/generic/d3[16][0]            \n",
      "                                                                 1/0/generic/d3[17][0]            \n",
      "                                                                 1/0/generic/d3[18][0]            \n",
      "                                                                 1/0/generic/d3[19][0]            \n",
      "                                                                 1/0/generic/d3[20][0]            \n",
      "                                                                 1/0/generic/d3[21][0]            \n",
      "                                                                 1/0/generic/d3[22][0]            \n",
      "                                                                 1/0/generic/d3[23][0]            \n",
      "                                                                 1/0/generic/d3[24][0]            \n",
      "                                                                 1/0/generic/d3[25][0]            \n",
      "                                                                 1/0/generic/d3[26][0]            \n",
      "                                                                 1/0/generic/d3[27][0]            \n",
      "__________________________________________________________________________________________________\n",
      "1/0/generic/theta_b (Dense)     (None, 4)            256         1/0/generic/d4[0][0]             \n",
      "                                                                 1/0/generic/d4[1][0]             \n",
      "                                                                 1/0/generic/d4[2][0]             \n",
      "                                                                 1/0/generic/d4[3][0]             \n",
      "                                                                 1/0/generic/d4[4][0]             \n",
      "                                                                 1/0/generic/d4[5][0]             \n",
      "                                                                 1/0/generic/d4[6][0]             \n",
      "                                                                 1/0/generic/d4[7][0]             \n",
      "                                                                 1/0/generic/d4[8][0]             \n",
      "                                                                 1/0/generic/d4[9][0]             \n",
      "                                                                 1/0/generic/d4[10][0]            \n",
      "                                                                 1/0/generic/d4[11][0]            \n",
      "                                                                 1/0/generic/d4[12][0]            \n",
      "                                                                 1/0/generic/d4[13][0]            \n",
      "__________________________________________________________________________________________________\n",
      "1/0/generic/backcast (Dense)    (None, 50)           250         1/0/generic/theta_b[0][0]        \n",
      "                                                                 1/0/generic/theta_b[1][0]        \n",
      "                                                                 1/0/generic/theta_b[2][0]        \n",
      "                                                                 1/0/generic/theta_b[3][0]        \n",
      "                                                                 1/0/generic/theta_b[4][0]        \n",
      "                                                                 1/0/generic/theta_b[5][0]        \n",
      "                                                                 1/0/generic/theta_b[6][0]        \n",
      "                                                                 1/0/generic/theta_b[7][0]        \n",
      "                                                                 1/0/generic/theta_b[8][0]        \n",
      "                                                                 1/0/generic/theta_b[9][0]        \n",
      "                                                                 1/0/generic/theta_b[10][0]       \n",
      "                                                                 1/0/generic/theta_b[11][0]       \n",
      "                                                                 1/0/generic/theta_b[12][0]       \n",
      "                                                                 1/0/generic/theta_b[13][0]       \n",
      "__________________________________________________________________________________________________\n",
      "subtract_29 (Subtract)          (None, 50)           0           subtract_15[0][0]                \n",
      "                                                                 1/0/generic/backcast[0][0]       \n",
      "__________________________________________________________________________________________________\n",
      "subtract_16 (Subtract)          (None, 50)           0           subtract_2[0][0]                 \n",
      "                                                                 0/0/generic/backcast[15][0]      \n",
      "__________________________________________________________________________________________________\n",
      "subtract_3 (Subtract)           (None, 50)           0           lambda_3[0][0]                   \n",
      "                                                                 0/0/generic/backcast[2][0]       \n",
      "__________________________________________________________________________________________________\n",
      "lambda_4 (Lambda)               (None, 50)           0           input_variable[0][0]             \n",
      "__________________________________________________________________________________________________\n",
      "subtract_30 (Subtract)          (None, 50)           0           subtract_16[0][0]                \n",
      "                                                                 1/0/generic/backcast[1][0]       \n",
      "__________________________________________________________________________________________________\n",
      "subtract_17 (Subtract)          (None, 50)           0           subtract_3[0][0]                 \n",
      "                                                                 0/0/generic/backcast[16][0]      \n",
      "__________________________________________________________________________________________________\n",
      "subtract_4 (Subtract)           (None, 50)           0           lambda_4[0][0]                   \n",
      "                                                                 0/0/generic/backcast[3][0]       \n",
      "__________________________________________________________________________________________________\n",
      "lambda_5 (Lambda)               (None, 50)           0           input_variable[0][0]             \n",
      "__________________________________________________________________________________________________\n",
      "subtract_31 (Subtract)          (None, 50)           0           subtract_17[0][0]                \n",
      "                                                                 1/0/generic/backcast[2][0]       \n",
      "__________________________________________________________________________________________________\n",
      "subtract_18 (Subtract)          (None, 50)           0           subtract_4[0][0]                 \n",
      "                                                                 0/0/generic/backcast[17][0]      \n",
      "__________________________________________________________________________________________________\n",
      "subtract_5 (Subtract)           (None, 50)           0           lambda_5[0][0]                   \n",
      "                                                                 0/0/generic/backcast[4][0]       \n",
      "__________________________________________________________________________________________________\n",
      "lambda_6 (Lambda)               (None, 50)           0           input_variable[0][0]             \n",
      "__________________________________________________________________________________________________\n",
      "subtract_32 (Subtract)          (None, 50)           0           subtract_18[0][0]                \n",
      "                                                                 1/0/generic/backcast[3][0]       \n",
      "__________________________________________________________________________________________________\n",
      "subtract_19 (Subtract)          (None, 50)           0           subtract_5[0][0]                 \n",
      "                                                                 0/0/generic/backcast[18][0]      \n",
      "__________________________________________________________________________________________________\n",
      "subtract_6 (Subtract)           (None, 50)           0           lambda_6[0][0]                   \n",
      "                                                                 0/0/generic/backcast[5][0]       \n",
      "__________________________________________________________________________________________________\n",
      "lambda_7 (Lambda)               (None, 50)           0           input_variable[0][0]             \n",
      "__________________________________________________________________________________________________\n",
      "subtract_33 (Subtract)          (None, 50)           0           subtract_19[0][0]                \n",
      "                                                                 1/0/generic/backcast[4][0]       \n",
      "__________________________________________________________________________________________________\n",
      "subtract_20 (Subtract)          (None, 50)           0           subtract_6[0][0]                 \n",
      "                                                                 0/0/generic/backcast[19][0]      \n",
      "__________________________________________________________________________________________________\n",
      "subtract_7 (Subtract)           (None, 50)           0           lambda_7[0][0]                   \n",
      "                                                                 0/0/generic/backcast[6][0]       \n",
      "__________________________________________________________________________________________________\n",
      "lambda_8 (Lambda)               (None, 50)           0           input_variable[0][0]             \n",
      "__________________________________________________________________________________________________\n",
      "subtract_34 (Subtract)          (None, 50)           0           subtract_20[0][0]                \n",
      "                                                                 1/0/generic/backcast[5][0]       \n",
      "__________________________________________________________________________________________________\n",
      "subtract_21 (Subtract)          (None, 50)           0           subtract_7[0][0]                 \n",
      "                                                                 0/0/generic/backcast[20][0]      \n",
      "__________________________________________________________________________________________________\n",
      "subtract_8 (Subtract)           (None, 50)           0           lambda_8[0][0]                   \n",
      "                                                                 0/0/generic/backcast[7][0]       \n",
      "__________________________________________________________________________________________________\n",
      "lambda_9 (Lambda)               (None, 50)           0           input_variable[0][0]             \n",
      "__________________________________________________________________________________________________\n",
      "subtract_35 (Subtract)          (None, 50)           0           subtract_21[0][0]                \n",
      "                                                                 1/0/generic/backcast[6][0]       \n",
      "__________________________________________________________________________________________________\n",
      "subtract_22 (Subtract)          (None, 50)           0           subtract_8[0][0]                 \n",
      "                                                                 0/0/generic/backcast[21][0]      \n",
      "__________________________________________________________________________________________________\n",
      "subtract_9 (Subtract)           (None, 50)           0           lambda_9[0][0]                   \n",
      "                                                                 0/0/generic/backcast[8][0]       \n",
      "__________________________________________________________________________________________________\n",
      "lambda_10 (Lambda)              (None, 50)           0           input_variable[0][0]             \n",
      "__________________________________________________________________________________________________\n",
      "subtract_36 (Subtract)          (None, 50)           0           subtract_22[0][0]                \n",
      "                                                                 1/0/generic/backcast[7][0]       \n",
      "__________________________________________________________________________________________________\n",
      "subtract_23 (Subtract)          (None, 50)           0           subtract_9[0][0]                 \n",
      "                                                                 0/0/generic/backcast[22][0]      \n",
      "__________________________________________________________________________________________________\n",
      "subtract_10 (Subtract)          (None, 50)           0           lambda_10[0][0]                  \n",
      "                                                                 0/0/generic/backcast[9][0]       \n",
      "__________________________________________________________________________________________________\n",
      "lambda_11 (Lambda)              (None, 50)           0           input_variable[0][0]             \n",
      "__________________________________________________________________________________________________\n",
      "subtract_37 (Subtract)          (None, 50)           0           subtract_23[0][0]                \n",
      "                                                                 1/0/generic/backcast[8][0]       \n",
      "__________________________________________________________________________________________________\n",
      "subtract_24 (Subtract)          (None, 50)           0           subtract_10[0][0]                \n",
      "                                                                 0/0/generic/backcast[23][0]      \n",
      "__________________________________________________________________________________________________\n",
      "subtract_11 (Subtract)          (None, 50)           0           lambda_11[0][0]                  \n",
      "                                                                 0/0/generic/backcast[10][0]      \n",
      "__________________________________________________________________________________________________\n",
      "lambda_12 (Lambda)              (None, 50)           0           input_variable[0][0]             \n",
      "__________________________________________________________________________________________________\n",
      "subtract_38 (Subtract)          (None, 50)           0           subtract_24[0][0]                \n",
      "                                                                 1/0/generic/backcast[9][0]       \n",
      "__________________________________________________________________________________________________\n",
      "subtract_25 (Subtract)          (None, 50)           0           subtract_11[0][0]                \n",
      "                                                                 0/0/generic/backcast[24][0]      \n",
      "__________________________________________________________________________________________________\n",
      "subtract_12 (Subtract)          (None, 50)           0           lambda_12[0][0]                  \n",
      "                                                                 0/0/generic/backcast[11][0]      \n",
      "__________________________________________________________________________________________________\n",
      "lambda_13 (Lambda)              (None, 50)           0           input_variable[0][0]             \n",
      "__________________________________________________________________________________________________\n",
      "subtract_39 (Subtract)          (None, 50)           0           subtract_25[0][0]                \n",
      "                                                                 1/0/generic/backcast[10][0]      \n",
      "__________________________________________________________________________________________________\n",
      "subtract_26 (Subtract)          (None, 50)           0           subtract_12[0][0]                \n",
      "                                                                 0/0/generic/backcast[25][0]      \n",
      "__________________________________________________________________________________________________\n",
      "subtract_13 (Subtract)          (None, 50)           0           lambda_13[0][0]                  \n",
      "                                                                 0/0/generic/backcast[12][0]      \n",
      "__________________________________________________________________________________________________\n",
      "lambda_14 (Lambda)              (None, 50)           0           input_variable[0][0]             \n",
      "__________________________________________________________________________________________________\n",
      "subtract_40 (Subtract)          (None, 50)           0           subtract_26[0][0]                \n",
      "                                                                 1/0/generic/backcast[11][0]      \n",
      "__________________________________________________________________________________________________\n",
      "subtract_27 (Subtract)          (None, 50)           0           subtract_13[0][0]                \n",
      "                                                                 0/0/generic/backcast[26][0]      \n",
      "__________________________________________________________________________________________________\n",
      "subtract_14 (Subtract)          (None, 50)           0           lambda_14[0][0]                  \n",
      "                                                                 0/0/generic/backcast[13][0]      \n",
      "__________________________________________________________________________________________________\n",
      "subtract_41 (Subtract)          (None, 50)           0           subtract_27[0][0]                \n",
      "                                                                 1/0/generic/backcast[12][0]      \n",
      "__________________________________________________________________________________________________\n",
      "subtract_28 (Subtract)          (None, 50)           0           subtract_14[0][0]                \n",
      "                                                                 0/0/generic/backcast[27][0]      \n",
      "__________________________________________________________________________________________________\n",
      "subtract_42 (Subtract)          (None, 50)           0           subtract_28[0][0]                \n",
      "                                                                 1/0/generic/backcast[13][0]      \n",
      "__________________________________________________________________________________________________\n",
      "0/0/generic/theta_f (Dense)     (None, 4)            256         0/0/generic/d4[0][0]             \n",
      "                                                                 0/0/generic/d4[1][0]             \n",
      "                                                                 0/0/generic/d4[2][0]             \n",
      "                                                                 0/0/generic/d4[3][0]             \n",
      "                                                                 0/0/generic/d4[4][0]             \n",
      "                                                                 0/0/generic/d4[5][0]             \n",
      "                                                                 0/0/generic/d4[6][0]             \n",
      "                                                                 0/0/generic/d4[7][0]             \n",
      "                                                                 0/0/generic/d4[8][0]             \n",
      "                                                                 0/0/generic/d4[9][0]             \n",
      "                                                                 0/0/generic/d4[10][0]            \n",
      "                                                                 0/0/generic/d4[11][0]            \n",
      "                                                                 0/0/generic/d4[12][0]            \n",
      "                                                                 0/0/generic/d4[13][0]            \n",
      "                                                                 0/0/generic/d4[14][0]            \n",
      "                                                                 0/0/generic/d4[15][0]            \n",
      "                                                                 0/0/generic/d4[16][0]            \n",
      "                                                                 0/0/generic/d4[17][0]            \n",
      "                                                                 0/0/generic/d4[18][0]            \n",
      "                                                                 0/0/generic/d4[19][0]            \n",
      "                                                                 0/0/generic/d4[20][0]            \n",
      "                                                                 0/0/generic/d4[21][0]            \n",
      "                                                                 0/0/generic/d4[22][0]            \n",
      "                                                                 0/0/generic/d4[23][0]            \n",
      "                                                                 0/0/generic/d4[24][0]            \n",
      "                                                                 0/0/generic/d4[25][0]            \n",
      "                                                                 0/0/generic/d4[26][0]            \n",
      "                                                                 0/0/generic/d4[27][0]            \n",
      "__________________________________________________________________________________________________\n",
      "0/0/generic/forecast (Dense)    (None, 5)            25          0/0/generic/theta_f[0][0]        \n",
      "                                                                 0/0/generic/theta_f[1][0]        \n",
      "                                                                 0/0/generic/theta_f[2][0]        \n",
      "                                                                 0/0/generic/theta_f[3][0]        \n",
      "                                                                 0/0/generic/theta_f[4][0]        \n",
      "                                                                 0/0/generic/theta_f[5][0]        \n",
      "                                                                 0/0/generic/theta_f[6][0]        \n",
      "                                                                 0/0/generic/theta_f[7][0]        \n",
      "                                                                 0/0/generic/theta_f[8][0]        \n",
      "                                                                 0/0/generic/theta_f[9][0]        \n",
      "                                                                 0/0/generic/theta_f[10][0]       \n",
      "                                                                 0/0/generic/theta_f[11][0]       \n",
      "                                                                 0/0/generic/theta_f[12][0]       \n",
      "                                                                 0/0/generic/theta_f[13][0]       \n",
      "                                                                 0/0/generic/theta_f[14][0]       \n",
      "                                                                 0/0/generic/theta_f[15][0]       \n",
      "                                                                 0/0/generic/theta_f[16][0]       \n",
      "                                                                 0/0/generic/theta_f[17][0]       \n",
      "                                                                 0/0/generic/theta_f[18][0]       \n",
      "                                                                 0/0/generic/theta_f[19][0]       \n",
      "                                                                 0/0/generic/theta_f[20][0]       \n",
      "                                                                 0/0/generic/theta_f[21][0]       \n",
      "                                                                 0/0/generic/theta_f[22][0]       \n",
      "                                                                 0/0/generic/theta_f[23][0]       \n",
      "                                                                 0/0/generic/theta_f[24][0]       \n",
      "                                                                 0/0/generic/theta_f[25][0]       \n",
      "                                                                 0/0/generic/theta_f[26][0]       \n",
      "                                                                 0/0/generic/theta_f[27][0]       \n",
      "__________________________________________________________________________________________________\n",
      "1/0/generic/theta_f (Dense)     (None, 4)            256         1/0/generic/d4[0][0]             \n",
      "                                                                 1/0/generic/d4[1][0]             \n",
      "                                                                 1/0/generic/d4[2][0]             \n",
      "                                                                 1/0/generic/d4[3][0]             \n",
      "                                                                 1/0/generic/d4[4][0]             \n",
      "                                                                 1/0/generic/d4[5][0]             \n",
      "                                                                 1/0/generic/d4[6][0]             \n",
      "                                                                 1/0/generic/d4[7][0]             \n",
      "                                                                 1/0/generic/d4[8][0]             \n",
      "                                                                 1/0/generic/d4[9][0]             \n",
      "                                                                 1/0/generic/d4[10][0]            \n",
      "                                                                 1/0/generic/d4[11][0]            \n",
      "                                                                 1/0/generic/d4[12][0]            \n",
      "                                                                 1/0/generic/d4[13][0]            \n",
      "                                                                 1/0/generic/d4[14][0]            \n",
      "                                                                 1/0/generic/d4[15][0]            \n",
      "                                                                 1/0/generic/d4[16][0]            \n",
      "                                                                 1/0/generic/d4[17][0]            \n",
      "                                                                 1/0/generic/d4[18][0]            \n",
      "                                                                 1/0/generic/d4[19][0]            \n",
      "                                                                 1/0/generic/d4[20][0]            \n",
      "                                                                 1/0/generic/d4[21][0]            \n",
      "                                                                 1/0/generic/d4[22][0]            \n",
      "                                                                 1/0/generic/d4[23][0]            \n",
      "                                                                 1/0/generic/d4[24][0]            \n",
      "                                                                 1/0/generic/d4[25][0]            \n",
      "                                                                 1/0/generic/d4[26][0]            \n",
      "                                                                 1/0/generic/d4[27][0]            \n",
      "__________________________________________________________________________________________________\n",
      "add_1 (Add)                     (None, 5)            0           0/0/generic/forecast[0][0]       \n",
      "                                                                 0/0/generic/forecast[14][0]      \n",
      "__________________________________________________________________________________________________\n",
      "1/0/generic/forecast (Dense)    (None, 5)            25          1/0/generic/theta_f[0][0]        \n",
      "                                                                 1/0/generic/theta_f[1][0]        \n",
      "                                                                 1/0/generic/theta_f[2][0]        \n",
      "                                                                 1/0/generic/theta_f[3][0]        \n",
      "                                                                 1/0/generic/theta_f[4][0]        \n",
      "                                                                 1/0/generic/theta_f[5][0]        \n",
      "                                                                 1/0/generic/theta_f[6][0]        \n",
      "                                                                 1/0/generic/theta_f[7][0]        \n",
      "                                                                 1/0/generic/theta_f[8][0]        \n",
      "                                                                 1/0/generic/theta_f[9][0]        \n",
      "                                                                 1/0/generic/theta_f[10][0]       \n",
      "                                                                 1/0/generic/theta_f[11][0]       \n",
      "                                                                 1/0/generic/theta_f[12][0]       \n",
      "                                                                 1/0/generic/theta_f[13][0]       \n",
      "                                                                 1/0/generic/theta_f[14][0]       \n",
      "                                                                 1/0/generic/theta_f[15][0]       \n",
      "                                                                 1/0/generic/theta_f[16][0]       \n",
      "                                                                 1/0/generic/theta_f[17][0]       \n",
      "                                                                 1/0/generic/theta_f[18][0]       \n",
      "                                                                 1/0/generic/theta_f[19][0]       \n",
      "                                                                 1/0/generic/theta_f[20][0]       \n",
      "                                                                 1/0/generic/theta_f[21][0]       \n",
      "                                                                 1/0/generic/theta_f[22][0]       \n",
      "                                                                 1/0/generic/theta_f[23][0]       \n",
      "                                                                 1/0/generic/theta_f[24][0]       \n",
      "                                                                 1/0/generic/theta_f[25][0]       \n",
      "                                                                 1/0/generic/theta_f[26][0]       \n",
      "                                                                 1/0/generic/theta_f[27][0]       \n",
      "__________________________________________________________________________________________________\n",
      "add_2 (Add)                     (None, 5)            0           0/0/generic/forecast[1][0]       \n",
      "                                                                 0/0/generic/forecast[15][0]      \n",
      "__________________________________________________________________________________________________\n",
      "add_3 (Add)                     (None, 5)            0           0/0/generic/forecast[2][0]       \n",
      "                                                                 0/0/generic/forecast[16][0]      \n",
      "__________________________________________________________________________________________________\n",
      "add_4 (Add)                     (None, 5)            0           0/0/generic/forecast[3][0]       \n",
      "                                                                 0/0/generic/forecast[17][0]      \n",
      "__________________________________________________________________________________________________\n",
      "add_5 (Add)                     (None, 5)            0           0/0/generic/forecast[4][0]       \n",
      "                                                                 0/0/generic/forecast[18][0]      \n",
      "__________________________________________________________________________________________________\n",
      "add_6 (Add)                     (None, 5)            0           0/0/generic/forecast[5][0]       \n",
      "                                                                 0/0/generic/forecast[19][0]      \n",
      "__________________________________________________________________________________________________\n",
      "add_7 (Add)                     (None, 5)            0           0/0/generic/forecast[6][0]       \n",
      "                                                                 0/0/generic/forecast[20][0]      \n",
      "__________________________________________________________________________________________________\n",
      "add_8 (Add)                     (None, 5)            0           0/0/generic/forecast[7][0]       \n",
      "                                                                 0/0/generic/forecast[21][0]      \n",
      "__________________________________________________________________________________________________\n",
      "add_9 (Add)                     (None, 5)            0           0/0/generic/forecast[8][0]       \n",
      "                                                                 0/0/generic/forecast[22][0]      \n",
      "__________________________________________________________________________________________________\n",
      "add_10 (Add)                    (None, 5)            0           0/0/generic/forecast[9][0]       \n",
      "                                                                 0/0/generic/forecast[23][0]      \n",
      "__________________________________________________________________________________________________\n",
      "add_11 (Add)                    (None, 5)            0           0/0/generic/forecast[10][0]      \n",
      "                                                                 0/0/generic/forecast[24][0]      \n",
      "__________________________________________________________________________________________________\n",
      "add_12 (Add)                    (None, 5)            0           0/0/generic/forecast[11][0]      \n",
      "                                                                 0/0/generic/forecast[25][0]      \n",
      "__________________________________________________________________________________________________\n",
      "add_13 (Add)                    (None, 5)            0           0/0/generic/forecast[12][0]      \n",
      "                                                                 0/0/generic/forecast[26][0]      \n",
      "__________________________________________________________________________________________________\n",
      "add_14 (Add)                    (None, 5)            0           0/0/generic/forecast[13][0]      \n",
      "                                                                 0/0/generic/forecast[27][0]      \n",
      "__________________________________________________________________________________________________\n",
      "add_15 (Add)                    (None, 5)            0           add_1[0][0]                      \n",
      "                                                                 1/0/generic/forecast[0][0]       \n",
      "__________________________________________________________________________________________________\n",
      "add_16 (Add)                    (None, 5)            0           add_2[0][0]                      \n",
      "                                                                 1/0/generic/forecast[1][0]       \n",
      "__________________________________________________________________________________________________\n",
      "add_17 (Add)                    (None, 5)            0           add_3[0][0]                      \n",
      "                                                                 1/0/generic/forecast[2][0]       \n",
      "__________________________________________________________________________________________________\n",
      "add_18 (Add)                    (None, 5)            0           add_4[0][0]                      \n",
      "                                                                 1/0/generic/forecast[3][0]       \n",
      "__________________________________________________________________________________________________\n",
      "add_19 (Add)                    (None, 5)            0           add_5[0][0]                      \n",
      "                                                                 1/0/generic/forecast[4][0]       \n",
      "__________________________________________________________________________________________________\n",
      "add_20 (Add)                    (None, 5)            0           add_6[0][0]                      \n",
      "                                                                 1/0/generic/forecast[5][0]       \n",
      "__________________________________________________________________________________________________\n",
      "add_21 (Add)                    (None, 5)            0           add_7[0][0]                      \n",
      "                                                                 1/0/generic/forecast[6][0]       \n",
      "__________________________________________________________________________________________________\n",
      "add_22 (Add)                    (None, 5)            0           add_8[0][0]                      \n",
      "                                                                 1/0/generic/forecast[7][0]       \n",
      "__________________________________________________________________________________________________\n",
      "add_23 (Add)                    (None, 5)            0           add_9[0][0]                      \n",
      "                                                                 1/0/generic/forecast[8][0]       \n",
      "__________________________________________________________________________________________________\n",
      "add_24 (Add)                    (None, 5)            0           add_10[0][0]                     \n",
      "                                                                 1/0/generic/forecast[9][0]       \n",
      "__________________________________________________________________________________________________\n",
      "add_25 (Add)                    (None, 5)            0           add_11[0][0]                     \n",
      "                                                                 1/0/generic/forecast[10][0]      \n",
      "__________________________________________________________________________________________________\n",
      "add_26 (Add)                    (None, 5)            0           add_12[0][0]                     \n",
      "                                                                 1/0/generic/forecast[11][0]      \n",
      "__________________________________________________________________________________________________\n",
      "add_27 (Add)                    (None, 5)            0           add_13[0][0]                     \n",
      "                                                                 1/0/generic/forecast[12][0]      \n",
      "__________________________________________________________________________________________________\n",
      "add_28 (Add)                    (None, 5)            0           add_14[0][0]                     \n",
      "                                                                 1/0/generic/forecast[13][0]      \n",
      "__________________________________________________________________________________________________\n",
      "add_29 (Add)                    (None, 5)            0           add_15[0][0]                     \n",
      "                                                                 1/0/generic/forecast[14][0]      \n",
      "__________________________________________________________________________________________________\n",
      "add_30 (Add)                    (None, 5)            0           add_16[0][0]                     \n",
      "                                                                 1/0/generic/forecast[15][0]      \n",
      "__________________________________________________________________________________________________\n",
      "add_31 (Add)                    (None, 5)            0           add_17[0][0]                     \n",
      "                                                                 1/0/generic/forecast[16][0]      \n",
      "__________________________________________________________________________________________________\n",
      "add_32 (Add)                    (None, 5)            0           add_18[0][0]                     \n",
      "                                                                 1/0/generic/forecast[17][0]      \n",
      "__________________________________________________________________________________________________\n",
      "add_33 (Add)                    (None, 5)            0           add_19[0][0]                     \n",
      "                                                                 1/0/generic/forecast[18][0]      \n",
      "__________________________________________________________________________________________________\n",
      "add_34 (Add)                    (None, 5)            0           add_20[0][0]                     \n",
      "                                                                 1/0/generic/forecast[19][0]      \n",
      "__________________________________________________________________________________________________\n",
      "add_35 (Add)                    (None, 5)            0           add_21[0][0]                     \n",
      "                                                                 1/0/generic/forecast[20][0]      \n",
      "__________________________________________________________________________________________________\n",
      "add_36 (Add)                    (None, 5)            0           add_22[0][0]                     \n",
      "                                                                 1/0/generic/forecast[21][0]      \n",
      "__________________________________________________________________________________________________\n",
      "add_37 (Add)                    (None, 5)            0           add_23[0][0]                     \n",
      "                                                                 1/0/generic/forecast[22][0]      \n",
      "__________________________________________________________________________________________________\n",
      "add_38 (Add)                    (None, 5)            0           add_24[0][0]                     \n",
      "                                                                 1/0/generic/forecast[23][0]      \n",
      "__________________________________________________________________________________________________\n",
      "add_39 (Add)                    (None, 5)            0           add_25[0][0]                     \n",
      "                                                                 1/0/generic/forecast[24][0]      \n",
      "__________________________________________________________________________________________________\n",
      "add_40 (Add)                    (None, 5)            0           add_26[0][0]                     \n",
      "                                                                 1/0/generic/forecast[25][0]      \n",
      "__________________________________________________________________________________________________\n",
      "add_41 (Add)                    (None, 5)            0           add_27[0][0]                     \n",
      "                                                                 1/0/generic/forecast[26][0]      \n",
      "__________________________________________________________________________________________________\n",
      "add_42 (Add)                    (None, 5)            0           add_28[0][0]                     \n",
      "                                                                 1/0/generic/forecast[27][0]      \n",
      "__________________________________________________________________________________________________\n",
      "reshape_1 (Reshape)             (None, 5, 1)         0           add_29[0][0]                     \n",
      "__________________________________________________________________________________________________\n",
      "reshape_2 (Reshape)             (None, 5, 1)         0           add_30[0][0]                     \n",
      "__________________________________________________________________________________________________\n",
      "reshape_3 (Reshape)             (None, 5, 1)         0           add_31[0][0]                     \n",
      "__________________________________________________________________________________________________\n",
      "reshape_4 (Reshape)             (None, 5, 1)         0           add_32[0][0]                     \n",
      "__________________________________________________________________________________________________\n",
      "reshape_5 (Reshape)             (None, 5, 1)         0           add_33[0][0]                     \n",
      "__________________________________________________________________________________________________\n",
      "reshape_6 (Reshape)             (None, 5, 1)         0           add_34[0][0]                     \n",
      "__________________________________________________________________________________________________\n",
      "reshape_7 (Reshape)             (None, 5, 1)         0           add_35[0][0]                     \n",
      "__________________________________________________________________________________________________\n",
      "reshape_8 (Reshape)             (None, 5, 1)         0           add_36[0][0]                     \n",
      "__________________________________________________________________________________________________\n",
      "reshape_9 (Reshape)             (None, 5, 1)         0           add_37[0][0]                     \n",
      "__________________________________________________________________________________________________\n",
      "reshape_10 (Reshape)            (None, 5, 1)         0           add_38[0][0]                     \n",
      "__________________________________________________________________________________________________\n",
      "reshape_11 (Reshape)            (None, 5, 1)         0           add_39[0][0]                     \n",
      "__________________________________________________________________________________________________\n",
      "reshape_12 (Reshape)            (None, 5, 1)         0           add_40[0][0]                     \n",
      "__________________________________________________________________________________________________\n",
      "reshape_13 (Reshape)            (None, 5, 1)         0           add_41[0][0]                     \n",
      "__________________________________________________________________________________________________\n",
      "reshape_14 (Reshape)            (None, 5, 1)         0           add_42[0][0]                     \n",
      "__________________________________________________________________________________________________\n",
      "concatenate_4 (Concatenate)     (None, 5, 14)        0           reshape_1[0][0]                  \n",
      "                                                                 reshape_2[0][0]                  \n",
      "                                                                 reshape_3[0][0]                  \n",
      "                                                                 reshape_4[0][0]                  \n",
      "                                                                 reshape_5[0][0]                  \n",
      "                                                                 reshape_6[0][0]                  \n",
      "                                                                 reshape_7[0][0]                  \n",
      "                                                                 reshape_8[0][0]                  \n",
      "                                                                 reshape_9[0][0]                  \n",
      "                                                                 reshape_10[0][0]                 \n",
      "                                                                 reshape_11[0][0]                 \n",
      "                                                                 reshape_12[0][0]                 \n",
      "                                                                 reshape_13[0][0]                 \n",
      "                                                                 reshape_14[0][0]                 \n",
      "==================================================================================================\n",
      "Total params: 33,062\n",
      "Trainable params: 33,062\n",
      "Non-trainable params: 0\n",
      "__________________________________________________________________________________________________\n"
     ]
    },
    {
     "name": "stdout",
     "output_type": "stream",
     "text": [
      "WARNING:tensorflow:From C:\\Users\\spgen\\Anaconda3\\lib\\site-packages\\tensorflow\\python\\ops\\math_ops.py:3066: to_int32 (from tensorflow.python.ops.math_ops) is deprecated and will be removed in a future version.\n",
      "Instructions for updating:\n",
      "Use tf.cast instead.\n"
     ]
    }
   ],
   "source": [
    "# Definition of the model.\n",
    "nbeats = NBeatsNet(input_dim = 14, backcast_length=50, forecast_length=5,\n",
    "                  stack_types=(NBeatsNet.GENERIC_BLOCK, NBeatsNet.GENERIC_BLOCK), \n",
    "                  nb_blocks_per_stack=2,\n",
    "                  thetas_dim=(4, 4), \n",
    "                  share_weights_in_stack=True, \n",
    "                  hidden_layer_units=64)\n",
    "\n",
    "# Definition of the objective function and the optimizer.\n",
    "nbeats.compile_model(loss='mae', learning_rate=1e-6)\n",
    " \n",
    "# Train the model.\n",
    "# nbeats.fit(fc_x_train, fc_y_train, verbose=1, validation_split=0.3, epochs=100, batch_size=128)\n",
    "\n",
    "# Save the model for later.\n",
    "# nbeats.save('weights/TEDS_NBeats_RUL.hdf5')\n",
    "\n",
    "# # Load the model.\n",
    "nbeats = NBeatsNet.load('weights/TEDS_NBeats_RUL.hdf5')"
   ]
  },
  {
   "cell_type": "code",
   "execution_count": 32,
   "metadata": {},
   "outputs": [
    {
     "name": "stdout",
     "output_type": "stream",
     "text": [
      "Train: 0.1924214253250012 0.059098888844387874 0.24310263027040221\n",
      "-3.211671873120382\n"
     ]
    }
   ],
   "source": [
    "predictions = nbeats.predict(fc_x_train)\n",
    "print('Train:',mean_absolute_error(fc_y_train.reshape(-1,70),predictions.reshape(-1,70)),mean_squared_error(fc_y_train.reshape(-1,70),predictions.reshape(-1,70)),sqrt(mean_squared_error(fc_y_train.reshape(-1,70),predictions.reshape(-1,70))))\n",
    "print(r2_score(fc_y_train.reshape(-1,70),predictions.reshape(-1,70)))"
   ]
  },
  {
   "cell_type": "code",
   "execution_count": 33,
   "metadata": {},
   "outputs": [
    {
     "name": "stdout",
     "output_type": "stream",
     "text": [
      "Test: 0.22186722158240046 0.07520374768411571 0.27423301712980463\n",
      "-11.707985504125105\n"
     ]
    }
   ],
   "source": [
    "predictions = nbeats.predict(fc_x_test)\n",
    "print('Test:',mean_absolute_error(fc_y_test.reshape(-1,70),predictions.reshape(-1,70)),mean_squared_error(fc_y_test.reshape(-1,70),predictions.reshape(-1,70)),sqrt(mean_squared_error(fc_y_test.reshape(-1,70),predictions.reshape(-1,70))))\n",
    "print(r2_score(fc_y_test.reshape(-1,70),predictions.reshape(-1,70)))"
   ]
  },
  {
   "cell_type": "markdown",
   "metadata": {},
   "source": [
    "---\n",
    "## XYZ7 Model"
   ]
  },
  {
   "cell_type": "code",
   "execution_count": 34,
   "metadata": {},
   "outputs": [],
   "source": [
    "window = 50\n",
    "forecast_steps = 5\n",
    "\n",
    "rul_train, xyz7_x_train, xyz7_y_train, rul_temp = [],[],[],[]\n",
    "for unit in train_units:\n",
    "    temp_unit = LSTM_train[LSTM_train['u']==unit].drop(columns=['u','RUL']).values   \n",
    "    for i in range(len(temp_unit) - window + 1): # elekse edw an len temp_unit - window > 0\n",
    "        temp_instance = np.array(temp_unit[i:i+window])\n",
    "        rul_temp.append(temp_instance)\n",
    "        xyz7_x_train.append(temp_instance[:-forecast_steps])\n",
    "        xyz7_y_train.append(temp_instance[-forecast_steps:])\n",
    "\n",
    "rul_train = predictor.predict(np.array(rul_temp))\n",
    "xyz7_x_train = np.array(xyz7_x_train)\n",
    "xyz7_y_train = np.array(xyz7_y_train)\n",
    "\n",
    "rul_test, xyz7_x_test, xyz7_y_test, rul_temp = [],[],[],[]\n",
    "for unit in test_units:\n",
    "    temp_unit = LSTM_test[LSTM_test['u']==unit].drop(columns=['u','RUL']).values   \n",
    "    for i in range(len(temp_unit) - window + 1): # elekse edw an len temp_unit - window > 0\n",
    "        temp_instance = np.array(temp_unit[i:i+window])\n",
    "        rul_temp.append(temp_instance)\n",
    "        xyz7_x_test.append(temp_instance[:-forecast_steps])\n",
    "        xyz7_y_test.append(temp_instance[-forecast_steps:])\n",
    "\n",
    "rul_test = predictor.predict(np.array(rul_temp))\n",
    "xyz7_x_test = np.array(xyz7_x_test)\n",
    "xyz7_y_test = np.array(xyz7_y_test)"
   ]
  },
  {
   "cell_type": "code",
   "execution_count": 35,
   "metadata": {},
   "outputs": [
    {
     "data": {
      "text/plain": [
       "((15731, 1), (15731, 45, 14), (15731, 5, 14))"
      ]
     },
     "execution_count": 35,
     "metadata": {},
     "output_type": "execute_result"
    }
   ],
   "source": [
    "rul_train.shape , xyz7_x_train.shape , xyz7_y_train.shape "
   ]
  },
  {
   "cell_type": "code",
   "execution_count": 36,
   "metadata": {},
   "outputs": [
    {
     "name": "stdout",
     "output_type": "stream",
     "text": [
      "__________________________________________________________________________________________________\n",
      "Layer (type)                    Output Shape         Param #     Connected to                     \n",
      "==================================================================================================\n",
      "input_4 (InputLayer)            (None, 45, 14)       0                                            \n",
      "__________________________________________________________________________________________________\n",
      "lstm_11 (LSTM)                  (None, 45, 120)      64800       input_4[0][0]                    \n",
      "__________________________________________________________________________________________________\n",
      "dropout_10 (Dropout)            (None, 45, 120)      0           lstm_11[0][0]                    \n",
      "__________________________________________________________________________________________________\n",
      "input_5 (InputLayer)            (None, 1)            0                                            \n",
      "__________________________________________________________________________________________________\n",
      "lstm_12 (LSTM)                  (None, 45, 50)       34200       dropout_10[0][0]                 \n",
      "__________________________________________________________________________________________________\n",
      "conv1d_6 (Conv1D)               (None, 5, 50)        28750       input_4[0][0]                    \n",
      "__________________________________________________________________________________________________\n",
      "repeat_vector_3 (RepeatVector)  (None, 5, 1)         0           input_5[0][0]                    \n",
      "__________________________________________________________________________________________________\n",
      "conv1d_5 (Conv1D)               (None, 5, 50)        102550      lstm_12[0][0]                    \n",
      "__________________________________________________________________________________________________\n",
      "concatenate_6 (Concatenate)     (None, 5, 51)        0           conv1d_6[0][0]                   \n",
      "                                                                 repeat_vector_3[0][0]            \n",
      "__________________________________________________________________________________________________\n",
      "concatenate_5 (Concatenate)     (None, 5, 51)        0           conv1d_5[0][0]                   \n",
      "                                                                 repeat_vector_3[0][0]            \n",
      "__________________________________________________________________________________________________\n",
      "concatenate_7 (Concatenate)     (None, 5, 103)       0           concatenate_6[0][0]              \n",
      "                                                                 concatenate_5[0][0]              \n",
      "                                                                 repeat_vector_3[0][0]            \n",
      "__________________________________________________________________________________________________\n",
      "dropout_11 (Dropout)            (None, 5, 103)       0           concatenate_7[0][0]              \n",
      "__________________________________________________________________________________________________\n",
      "lstm_13 (LSTM)                  (None, 5, 40)        23040       dropout_11[0][0]                 \n",
      "__________________________________________________________________________________________________\n",
      "concatenate_8 (Concatenate)     (None, 5, 41)        0           lstm_13[0][0]                    \n",
      "                                                                 repeat_vector_3[0][0]            \n",
      "__________________________________________________________________________________________________\n",
      "dropout_12 (Dropout)            (None, 5, 41)        0           concatenate_8[0][0]              \n",
      "__________________________________________________________________________________________________\n",
      "lstm_14 (LSTM)                  (None, 5, 14)        3136        dropout_12[0][0]                 \n",
      "==================================================================================================\n",
      "Total params: 256,476\n",
      "Trainable params: 256,476\n",
      "Non-trainable params: 0\n",
      "__________________________________________________________________________________________________\n"
     ]
    }
   ],
   "source": [
    "forecast_input = Input(shape=(xyz7_x_train[0].shape))\n",
    "rul_input = Input(shape = (rul_train[0].shape))\n",
    "rul = RepeatVector(5)(rul_input)\n",
    "\n",
    "forecast_x = LSTM(units=120, return_sequences=True, activation='tanh')(forecast_input)\n",
    "forecast_x = Dropout(0.7)(forecast_x)\n",
    "forecast_x = LSTM(units=50, return_sequences=True, activation='tanh')(forecast_x)\n",
    "forecast_x = Conv1D(filters=50,kernel_size=41,activation='tanh')(forecast_x)\n",
    "forecast_x = concatenate([forecast_x, rul])\n",
    "\n",
    "\n",
    "forecast_y = Conv1D(filters=50,kernel_size=41,activation='tanh')(forecast_input)\n",
    "forecast_y = concatenate([forecast_y, rul])\n",
    "\n",
    "\n",
    "forecast = concatenate([forecast_y, forecast_x, rul])\n",
    "forecast = Dropout(0.7)(forecast)\n",
    "forecast = LSTM(40, return_sequences=True, activation='relu')(forecast)#Relu and selu\n",
    "forecast = concatenate([forecast, rul])\n",
    "forecast = Dropout(0.7)(forecast)\n",
    "predictions = LSTM(14, return_sequences=True, activation='linear')(forecast)#Relu and selu\n",
    "\n",
    "xyz7_model = Model([forecast_input, rul_input],predictions)\n",
    "opt = keras.optimizers.Adam(lr=0.001)\n",
    "xyz7_model.compile(optimizer=opt, loss=[root_mean_squared_error],metrics=['mae','mse'])\n",
    "xyz7_model.summary()\n",
    "\n",
    "checkpoint_name = 'weights/TEDS_XYZ7_RUL.hdf5'\n",
    "checkpoint = ModelCheckpoint(checkpoint_name, monitor='val_loss', verbose = 2, save_best_only = True, mode ='auto')"
   ]
  },
  {
   "cell_type": "code",
   "execution_count": 37,
   "metadata": {
    "scrolled": true
   },
   "outputs": [],
   "source": [
    "# xyz7_model.fit([xyz7_x_train,rul_train], xyz7_y_train, epochs=250, batch_size=512, shuffle=True, validation_split=0.3, verbose=2, callbacks=[checkpoint])"
   ]
  },
  {
   "cell_type": "code",
   "execution_count": 38,
   "metadata": {},
   "outputs": [],
   "source": [
    "weights_file = 'weights/TEDS_XYZ7_RUL.hdf5' # choose the best checkpoint few features\n",
    "xyz7_model.load_weights(weights_file) # load it\n",
    "xyz7_model.compile(optimizer=opt,loss=[root_mean_squared_error],metrics=['mae','mse'])"
   ]
  },
  {
   "cell_type": "markdown",
   "metadata": {},
   "source": [
    "---\n",
    "## IML-Tool "
   ]
  },
  {
   "cell_type": "code",
   "execution_count": 39,
   "metadata": {},
   "outputs": [],
   "source": [
    "lionet = LioNets(predictor, decoder, encoder, LSTM_x_train)\n",
    "\n",
    "iml_methods = {'LioNets':lionet} # {'Lime':lime}\n",
    "\n",
    "nn_forecasters = {'forecaster':forecaster, 'nbeats':nbeats, 'xyz7_model':xyz7_model}"
   ]
  },
  {
   "cell_type": "code",
   "execution_count": 40,
   "metadata": {},
   "outputs": [],
   "source": [
    "from Interactive_IML_Tool import interactive_iml_tool"
   ]
  },
  {
   "cell_type": "code",
   "execution_count": 41,
   "metadata": {},
   "outputs": [],
   "source": [
    "iml_tool = interactive_iml_tool(predictor, iml_methods, nn_forecasters, LSTM_x_train, LSTM_y_train, sensors, target_scaler)"
   ]
  },
  {
   "cell_type": "code",
   "execution_count": 49,
   "metadata": {
    "scrolled": false
   },
   "outputs": [
    {
     "data": {
      "application/vnd.jupyter.widget-view+json": {
       "model_id": "477b60ab8ac348e8a84ea307b455860c",
       "version_major": 2,
       "version_minor": 0
      },
      "text/plain": [
       "VBox(children=(HBox(children=(Label(value='Interpretation method:'), ToggleButtons(options=('LioNets', 'Lime')…"
      ]
     },
     "metadata": {},
     "output_type": "display_data"
    },
    {
     "data": {
      "application/vnd.jupyter.widget-view+json": {
       "model_id": "71c9b60e3c8c40239949a2e5ee33c339",
       "version_major": 2,
       "version_minor": 0
      },
      "text/plain": [
       "Output()"
      ]
     },
     "metadata": {},
     "output_type": "display_data"
    }
   ],
   "source": [
    "temp_instance = LSTM_x_train[112].copy()\n",
    "iml_tool.load_instance(temp_instance)"
   ]
  },
  {
   "cell_type": "markdown",
   "metadata": {},
   "source": [
    "## LioNets & iPCA Experiments\n",
    "Having everything setted up, we are now ready to try our methodology. We first initialize LioNets and iPCA. LioNets requires a predictor (the regressor itself), an encoder (extracted from the predictor), a decoder, as well as some data (for best results the training data, in order to push the neighbourhood generation through known distribution for the network). For the iPCA we use the neighbourhood generator of LioNets in order to build the local linear model. "
   ]
  },
  {
   "cell_type": "code",
   "execution_count": 43,
   "metadata": {},
   "outputs": [],
   "source": [
    "lionet = LioNets(predictor, decoder, encoder, LSTM_x_train, double_detector=False)\n",
    "transparent_model = Ridge(alpha=200,fit_intercept=True,random_state=0)"
   ]
  },
  {
   "cell_type": "code",
   "execution_count": 44,
   "metadata": {
    "scrolled": true
   },
   "outputs": [
    {
     "data": {
      "text/plain": [
       "((200, 50, 14), (200, 50, 14))"
      ]
     },
     "execution_count": 44,
     "metadata": {},
     "output_type": "execute_result"
    }
   ],
   "source": [
    "random.seed(2000)\n",
    "train = np.array(random.sample(LSTM_x_train.tolist(),200))\n",
    "valid = np.array(random.sample(LSTM_x_test.tolist(),200))\n",
    "train.shape, valid.shape"
   ]
  },
  {
   "cell_type": "markdown",
   "metadata": {},
   "source": [
    "Let's calculate the fidelity of Lime and LioNets"
   ]
  },
  {
   "cell_type": "code",
   "execution_count": 45,
   "metadata": {},
   "outputs": [],
   "source": [
    "def lime_predict(instance):\n",
    "    t_instance = np.array([instance]).reshape((len(instance),50,14))\n",
    "    a = predictor.predict(t_instance)\n",
    "    a = np.array([i[0] for i in a]) \n",
    "    return a\n",
    "\n",
    "explainer = LimeTabularExplainer(training_data=train.reshape(((len(train), 700))), \n",
    "                 discretize_continuous=False,\n",
    "                 mode=\"regression\")"
   ]
  },
  {
   "cell_type": "code",
   "execution_count": 46,
   "metadata": {},
   "outputs": [],
   "source": [
    "def fi_lime(instance):\n",
    "    t_instance = instance.reshape((700))\n",
    "    explanation,_,_,_ = explainer.explain_instance(t_instance, predict_fn=lime_predict, num_features=700)\n",
    "    local_pred = explanation.local_pred[0]\n",
    "    return local_pred #This is because lime interprets class with label 1\n",
    "def fi_lionets(instance):\n",
    "    weights, res, loc_res = lionet.explain_instance(instance,3000,transparent_model)\n",
    "    return loc_res"
   ]
  },
  {
   "cell_type": "code",
   "execution_count": 47,
   "metadata": {},
   "outputs": [],
   "source": [
    "evaluator = Evaluation(predictor.predict,None,lambda x: x,True)"
   ]
  },
  {
   "cell_type": "code",
   "execution_count": 48,
   "metadata": {
    "scrolled": true
   },
   "outputs": [
    {
     "ename": "KeyboardInterrupt",
     "evalue": "",
     "output_type": "error",
     "traceback": [
      "\u001b[1;31m---------------------------------------------------------------------------\u001b[0m",
      "\u001b[1;31mKeyboardInterrupt\u001b[0m                         Traceback (most recent call last)",
      "\u001b[1;32m<ipython-input-48-04dea27a7945>\u001b[0m in \u001b[0;36m<module>\u001b[1;34m\u001b[0m\n\u001b[1;32m----> 1\u001b[1;33m \u001b[0mfidelity\u001b[0m \u001b[1;33m=\u001b[0m \u001b[0mevaluator\u001b[0m\u001b[1;33m.\u001b[0m\u001b[0mfidelity\u001b[0m\u001b[1;33m(\u001b[0m\u001b[0mtrain\u001b[0m\u001b[1;33m,\u001b[0m \u001b[1;33m[\u001b[0m\u001b[0mfi_lime\u001b[0m\u001b[1;33m,\u001b[0m \u001b[0mfi_lionets\u001b[0m\u001b[1;33m]\u001b[0m\u001b[1;33m,\u001b[0m \u001b[0mclass_n\u001b[0m\u001b[1;33m=\u001b[0m\u001b[1;36m0\u001b[0m\u001b[1;33m)\u001b[0m\u001b[1;33m\u001b[0m\u001b[1;33m\u001b[0m\u001b[0m\n\u001b[0m\u001b[0;32m      2\u001b[0m \u001b[0mprint\u001b[0m\u001b[1;33m(\u001b[0m\u001b[1;34m\"Train:\"\u001b[0m\u001b[1;33m)\u001b[0m\u001b[1;33m\u001b[0m\u001b[1;33m\u001b[0m\u001b[0m\n\u001b[0;32m      3\u001b[0m \u001b[0mprint\u001b[0m\u001b[1;33m(\u001b[0m\u001b[1;34m'  Lime fidelity:'\u001b[0m\u001b[1;33m,\u001b[0m \u001b[0mfidelity\u001b[0m\u001b[1;33m[\u001b[0m\u001b[1;36m0\u001b[0m\u001b[1;33m]\u001b[0m\u001b[1;33m[\u001b[0m\u001b[1;36m0\u001b[0m\u001b[1;33m]\u001b[0m\u001b[1;33m)\u001b[0m\u001b[1;33m\u001b[0m\u001b[1;33m\u001b[0m\u001b[0m\n\u001b[0;32m      4\u001b[0m \u001b[0mprint\u001b[0m\u001b[1;33m(\u001b[0m\u001b[1;34m'  LioNets fidelity:'\u001b[0m\u001b[1;33m,\u001b[0m \u001b[0mfidelity\u001b[0m\u001b[1;33m[\u001b[0m\u001b[1;36m1\u001b[0m\u001b[1;33m]\u001b[0m\u001b[1;33m[\u001b[0m\u001b[1;36m0\u001b[0m\u001b[1;33m]\u001b[0m\u001b[1;33m)\u001b[0m\u001b[1;33m\u001b[0m\u001b[1;33m\u001b[0m\u001b[0m\n\u001b[0;32m      5\u001b[0m \u001b[0mfidelity\u001b[0m \u001b[1;33m=\u001b[0m \u001b[0mevaluator\u001b[0m\u001b[1;33m.\u001b[0m\u001b[0mfidelity\u001b[0m\u001b[1;33m(\u001b[0m\u001b[0mvalid\u001b[0m\u001b[1;33m,\u001b[0m \u001b[1;33m[\u001b[0m\u001b[0mfi_lime\u001b[0m\u001b[1;33m,\u001b[0m \u001b[0mfi_lionets\u001b[0m\u001b[1;33m]\u001b[0m\u001b[1;33m,\u001b[0m \u001b[0mclass_n\u001b[0m\u001b[1;33m=\u001b[0m\u001b[1;36m0\u001b[0m\u001b[1;33m)\u001b[0m\u001b[1;33m\u001b[0m\u001b[1;33m\u001b[0m\u001b[0m\n",
      "\u001b[1;32m~\\LioNets_V2\\TEDS_RUL\\utilities\\evaluation.py\u001b[0m in \u001b[0;36mfidelity\u001b[1;34m(self, data, interpretation_techniques, class_n)\u001b[0m\n\u001b[0;32m     27\u001b[0m             \u001b[0mcit\u001b[0m \u001b[1;33m=\u001b[0m \u001b[1;36m0\u001b[0m\u001b[1;33m\u001b[0m\u001b[1;33m\u001b[0m\u001b[0m\n\u001b[0;32m     28\u001b[0m             \u001b[1;32mfor\u001b[0m \u001b[0mit\u001b[0m \u001b[1;32min\u001b[0m \u001b[0minterpretation_techniques\u001b[0m\u001b[1;33m:\u001b[0m\u001b[1;33m\u001b[0m\u001b[1;33m\u001b[0m\u001b[0m\n\u001b[1;32m---> 29\u001b[1;33m                 \u001b[0mlocal_prediction\u001b[0m \u001b[1;33m=\u001b[0m \u001b[0mit\u001b[0m\u001b[1;33m(\u001b[0m\u001b[0minstance\u001b[0m\u001b[1;33m)\u001b[0m\u001b[1;33m\u001b[0m\u001b[1;33m\u001b[0m\u001b[0m\n\u001b[0m\u001b[0;32m     30\u001b[0m                 \u001b[0mfid\u001b[0m\u001b[1;33m[\u001b[0m\u001b[0mcit\u001b[0m\u001b[1;33m]\u001b[0m\u001b[1;33m.\u001b[0m\u001b[0mappend\u001b[0m\u001b[1;33m(\u001b[0m\u001b[0mlocal_prediction\u001b[0m\u001b[1;33m)\u001b[0m\u001b[1;33m\u001b[0m\u001b[1;33m\u001b[0m\u001b[0m\n\u001b[0;32m     31\u001b[0m                 \u001b[0mcit\u001b[0m \u001b[1;33m=\u001b[0m \u001b[0mcit\u001b[0m \u001b[1;33m+\u001b[0m \u001b[1;36m1\u001b[0m\u001b[1;33m\u001b[0m\u001b[1;33m\u001b[0m\u001b[0m\n",
      "\u001b[1;32m<ipython-input-46-c8cb3f134aae>\u001b[0m in \u001b[0;36mfi_lime\u001b[1;34m(instance)\u001b[0m\n\u001b[0;32m      1\u001b[0m \u001b[1;32mdef\u001b[0m \u001b[0mfi_lime\u001b[0m\u001b[1;33m(\u001b[0m\u001b[0minstance\u001b[0m\u001b[1;33m)\u001b[0m\u001b[1;33m:\u001b[0m\u001b[1;33m\u001b[0m\u001b[1;33m\u001b[0m\u001b[0m\n\u001b[0;32m      2\u001b[0m     \u001b[0mt_instance\u001b[0m \u001b[1;33m=\u001b[0m \u001b[0minstance\u001b[0m\u001b[1;33m.\u001b[0m\u001b[0mreshape\u001b[0m\u001b[1;33m(\u001b[0m\u001b[1;33m(\u001b[0m\u001b[1;36m700\u001b[0m\u001b[1;33m)\u001b[0m\u001b[1;33m)\u001b[0m\u001b[1;33m\u001b[0m\u001b[1;33m\u001b[0m\u001b[0m\n\u001b[1;32m----> 3\u001b[1;33m     \u001b[0mexplanation\u001b[0m\u001b[1;33m,\u001b[0m\u001b[0m_\u001b[0m\u001b[1;33m,\u001b[0m\u001b[0m_\u001b[0m\u001b[1;33m,\u001b[0m\u001b[0m_\u001b[0m \u001b[1;33m=\u001b[0m \u001b[0mexplainer\u001b[0m\u001b[1;33m.\u001b[0m\u001b[0mexplain_instance\u001b[0m\u001b[1;33m(\u001b[0m\u001b[0mt_instance\u001b[0m\u001b[1;33m,\u001b[0m \u001b[0mpredict_fn\u001b[0m\u001b[1;33m=\u001b[0m\u001b[0mlime_predict\u001b[0m\u001b[1;33m,\u001b[0m \u001b[0mnum_features\u001b[0m\u001b[1;33m=\u001b[0m\u001b[1;36m700\u001b[0m\u001b[1;33m)\u001b[0m\u001b[1;33m\u001b[0m\u001b[1;33m\u001b[0m\u001b[0m\n\u001b[0m\u001b[0;32m      4\u001b[0m     \u001b[0mlocal_pred\u001b[0m \u001b[1;33m=\u001b[0m \u001b[0mexplanation\u001b[0m\u001b[1;33m.\u001b[0m\u001b[0mlocal_pred\u001b[0m\u001b[1;33m[\u001b[0m\u001b[1;36m0\u001b[0m\u001b[1;33m]\u001b[0m\u001b[1;33m\u001b[0m\u001b[1;33m\u001b[0m\u001b[0m\n\u001b[0;32m      5\u001b[0m     \u001b[1;32mreturn\u001b[0m \u001b[0mlocal_pred\u001b[0m \u001b[1;31m#This is because lime interprets class with label 1\u001b[0m\u001b[1;33m\u001b[0m\u001b[1;33m\u001b[0m\u001b[0m\n",
      "\u001b[1;32m~\\Anaconda3\\lib\\site-packages\\lime\\lime_tabular.py\u001b[0m in \u001b[0;36mexplain_instance\u001b[1;34m(self, data_row, predict_fn, labels, top_labels, num_features, num_samples, distance_metric, model_regressor)\u001b[0m\n\u001b[0;32m    284\u001b[0m         ).ravel()\n\u001b[0;32m    285\u001b[0m \u001b[1;33m\u001b[0m\u001b[0m\n\u001b[1;32m--> 286\u001b[1;33m         \u001b[0myss\u001b[0m \u001b[1;33m=\u001b[0m \u001b[0mpredict_fn\u001b[0m\u001b[1;33m(\u001b[0m\u001b[0minverse\u001b[0m\u001b[1;33m)\u001b[0m\u001b[1;33m\u001b[0m\u001b[1;33m\u001b[0m\u001b[0m\n\u001b[0m\u001b[0;32m    287\u001b[0m \u001b[1;33m\u001b[0m\u001b[0m\n\u001b[0;32m    288\u001b[0m         \u001b[1;31m# for classification, the model needs to provide a list of tuples - classes\u001b[0m\u001b[1;33m\u001b[0m\u001b[1;33m\u001b[0m\u001b[1;33m\u001b[0m\u001b[0m\n",
      "\u001b[1;32m<ipython-input-45-81c6b9ce4aab>\u001b[0m in \u001b[0;36mlime_predict\u001b[1;34m(instance)\u001b[0m\n\u001b[0;32m      1\u001b[0m \u001b[1;32mdef\u001b[0m \u001b[0mlime_predict\u001b[0m\u001b[1;33m(\u001b[0m\u001b[0minstance\u001b[0m\u001b[1;33m)\u001b[0m\u001b[1;33m:\u001b[0m\u001b[1;33m\u001b[0m\u001b[1;33m\u001b[0m\u001b[0m\n\u001b[0;32m      2\u001b[0m     \u001b[0mt_instance\u001b[0m \u001b[1;33m=\u001b[0m \u001b[0mnp\u001b[0m\u001b[1;33m.\u001b[0m\u001b[0marray\u001b[0m\u001b[1;33m(\u001b[0m\u001b[1;33m[\u001b[0m\u001b[0minstance\u001b[0m\u001b[1;33m]\u001b[0m\u001b[1;33m)\u001b[0m\u001b[1;33m.\u001b[0m\u001b[0mreshape\u001b[0m\u001b[1;33m(\u001b[0m\u001b[1;33m(\u001b[0m\u001b[0mlen\u001b[0m\u001b[1;33m(\u001b[0m\u001b[0minstance\u001b[0m\u001b[1;33m)\u001b[0m\u001b[1;33m,\u001b[0m\u001b[1;36m50\u001b[0m\u001b[1;33m,\u001b[0m\u001b[1;36m14\u001b[0m\u001b[1;33m)\u001b[0m\u001b[1;33m)\u001b[0m\u001b[1;33m\u001b[0m\u001b[1;33m\u001b[0m\u001b[0m\n\u001b[1;32m----> 3\u001b[1;33m     \u001b[0ma\u001b[0m \u001b[1;33m=\u001b[0m \u001b[0mpredictor\u001b[0m\u001b[1;33m.\u001b[0m\u001b[0mpredict\u001b[0m\u001b[1;33m(\u001b[0m\u001b[0mt_instance\u001b[0m\u001b[1;33m)\u001b[0m\u001b[1;33m\u001b[0m\u001b[1;33m\u001b[0m\u001b[0m\n\u001b[0m\u001b[0;32m      4\u001b[0m     \u001b[0ma\u001b[0m \u001b[1;33m=\u001b[0m \u001b[0mnp\u001b[0m\u001b[1;33m.\u001b[0m\u001b[0marray\u001b[0m\u001b[1;33m(\u001b[0m\u001b[1;33m[\u001b[0m\u001b[0mi\u001b[0m\u001b[1;33m[\u001b[0m\u001b[1;36m0\u001b[0m\u001b[1;33m]\u001b[0m \u001b[1;32mfor\u001b[0m \u001b[0mi\u001b[0m \u001b[1;32min\u001b[0m \u001b[0ma\u001b[0m\u001b[1;33m]\u001b[0m\u001b[1;33m)\u001b[0m\u001b[1;33m\u001b[0m\u001b[1;33m\u001b[0m\u001b[0m\n\u001b[0;32m      5\u001b[0m     \u001b[1;32mreturn\u001b[0m \u001b[0ma\u001b[0m\u001b[1;33m\u001b[0m\u001b[1;33m\u001b[0m\u001b[0m\n",
      "\u001b[1;32m~\\Anaconda3\\lib\\site-packages\\keras\\engine\\training.py\u001b[0m in \u001b[0;36mpredict\u001b[1;34m(self, x, batch_size, verbose, steps)\u001b[0m\n\u001b[0;32m   1167\u001b[0m                                             \u001b[0mbatch_size\u001b[0m\u001b[1;33m=\u001b[0m\u001b[0mbatch_size\u001b[0m\u001b[1;33m,\u001b[0m\u001b[1;33m\u001b[0m\u001b[1;33m\u001b[0m\u001b[0m\n\u001b[0;32m   1168\u001b[0m                                             \u001b[0mverbose\u001b[0m\u001b[1;33m=\u001b[0m\u001b[0mverbose\u001b[0m\u001b[1;33m,\u001b[0m\u001b[1;33m\u001b[0m\u001b[1;33m\u001b[0m\u001b[0m\n\u001b[1;32m-> 1169\u001b[1;33m                                             steps=steps)\n\u001b[0m\u001b[0;32m   1170\u001b[0m \u001b[1;33m\u001b[0m\u001b[0m\n\u001b[0;32m   1171\u001b[0m     def train_on_batch(self, x, y,\n",
      "\u001b[1;32m~\\Anaconda3\\lib\\site-packages\\keras\\engine\\training_arrays.py\u001b[0m in \u001b[0;36mpredict_loop\u001b[1;34m(model, f, ins, batch_size, verbose, steps)\u001b[0m\n\u001b[0;32m    292\u001b[0m                 \u001b[0mins_batch\u001b[0m\u001b[1;33m[\u001b[0m\u001b[0mi\u001b[0m\u001b[1;33m]\u001b[0m \u001b[1;33m=\u001b[0m \u001b[0mins_batch\u001b[0m\u001b[1;33m[\u001b[0m\u001b[0mi\u001b[0m\u001b[1;33m]\u001b[0m\u001b[1;33m.\u001b[0m\u001b[0mtoarray\u001b[0m\u001b[1;33m(\u001b[0m\u001b[1;33m)\u001b[0m\u001b[1;33m\u001b[0m\u001b[1;33m\u001b[0m\u001b[0m\n\u001b[0;32m    293\u001b[0m \u001b[1;33m\u001b[0m\u001b[0m\n\u001b[1;32m--> 294\u001b[1;33m             \u001b[0mbatch_outs\u001b[0m \u001b[1;33m=\u001b[0m \u001b[0mf\u001b[0m\u001b[1;33m(\u001b[0m\u001b[0mins_batch\u001b[0m\u001b[1;33m)\u001b[0m\u001b[1;33m\u001b[0m\u001b[1;33m\u001b[0m\u001b[0m\n\u001b[0m\u001b[0;32m    295\u001b[0m             \u001b[0mbatch_outs\u001b[0m \u001b[1;33m=\u001b[0m \u001b[0mto_list\u001b[0m\u001b[1;33m(\u001b[0m\u001b[0mbatch_outs\u001b[0m\u001b[1;33m)\u001b[0m\u001b[1;33m\u001b[0m\u001b[1;33m\u001b[0m\u001b[0m\n\u001b[0;32m    296\u001b[0m             \u001b[1;32mif\u001b[0m \u001b[0mbatch_index\u001b[0m \u001b[1;33m==\u001b[0m \u001b[1;36m0\u001b[0m\u001b[1;33m:\u001b[0m\u001b[1;33m\u001b[0m\u001b[1;33m\u001b[0m\u001b[0m\n",
      "\u001b[1;32m~\\Anaconda3\\lib\\site-packages\\keras\\backend\\tensorflow_backend.py\u001b[0m in \u001b[0;36m__call__\u001b[1;34m(self, inputs)\u001b[0m\n\u001b[0;32m   2713\u001b[0m                 \u001b[1;32mreturn\u001b[0m \u001b[0mself\u001b[0m\u001b[1;33m.\u001b[0m\u001b[0m_legacy_call\u001b[0m\u001b[1;33m(\u001b[0m\u001b[0minputs\u001b[0m\u001b[1;33m)\u001b[0m\u001b[1;33m\u001b[0m\u001b[1;33m\u001b[0m\u001b[0m\n\u001b[0;32m   2714\u001b[0m \u001b[1;33m\u001b[0m\u001b[0m\n\u001b[1;32m-> 2715\u001b[1;33m             \u001b[1;32mreturn\u001b[0m \u001b[0mself\u001b[0m\u001b[1;33m.\u001b[0m\u001b[0m_call\u001b[0m\u001b[1;33m(\u001b[0m\u001b[0minputs\u001b[0m\u001b[1;33m)\u001b[0m\u001b[1;33m\u001b[0m\u001b[1;33m\u001b[0m\u001b[0m\n\u001b[0m\u001b[0;32m   2716\u001b[0m         \u001b[1;32melse\u001b[0m\u001b[1;33m:\u001b[0m\u001b[1;33m\u001b[0m\u001b[1;33m\u001b[0m\u001b[0m\n\u001b[0;32m   2717\u001b[0m             \u001b[1;32mif\u001b[0m \u001b[0mpy_any\u001b[0m\u001b[1;33m(\u001b[0m\u001b[0mis_tensor\u001b[0m\u001b[1;33m(\u001b[0m\u001b[0mx\u001b[0m\u001b[1;33m)\u001b[0m \u001b[1;32mfor\u001b[0m \u001b[0mx\u001b[0m \u001b[1;32min\u001b[0m \u001b[0minputs\u001b[0m\u001b[1;33m)\u001b[0m\u001b[1;33m:\u001b[0m\u001b[1;33m\u001b[0m\u001b[1;33m\u001b[0m\u001b[0m\n",
      "\u001b[1;32m~\\Anaconda3\\lib\\site-packages\\keras\\backend\\tensorflow_backend.py\u001b[0m in \u001b[0;36m_call\u001b[1;34m(self, inputs)\u001b[0m\n\u001b[0;32m   2673\u001b[0m             \u001b[0mfetched\u001b[0m \u001b[1;33m=\u001b[0m \u001b[0mself\u001b[0m\u001b[1;33m.\u001b[0m\u001b[0m_callable_fn\u001b[0m\u001b[1;33m(\u001b[0m\u001b[1;33m*\u001b[0m\u001b[0marray_vals\u001b[0m\u001b[1;33m,\u001b[0m \u001b[0mrun_metadata\u001b[0m\u001b[1;33m=\u001b[0m\u001b[0mself\u001b[0m\u001b[1;33m.\u001b[0m\u001b[0mrun_metadata\u001b[0m\u001b[1;33m)\u001b[0m\u001b[1;33m\u001b[0m\u001b[1;33m\u001b[0m\u001b[0m\n\u001b[0;32m   2674\u001b[0m         \u001b[1;32melse\u001b[0m\u001b[1;33m:\u001b[0m\u001b[1;33m\u001b[0m\u001b[1;33m\u001b[0m\u001b[0m\n\u001b[1;32m-> 2675\u001b[1;33m             \u001b[0mfetched\u001b[0m \u001b[1;33m=\u001b[0m \u001b[0mself\u001b[0m\u001b[1;33m.\u001b[0m\u001b[0m_callable_fn\u001b[0m\u001b[1;33m(\u001b[0m\u001b[1;33m*\u001b[0m\u001b[0marray_vals\u001b[0m\u001b[1;33m)\u001b[0m\u001b[1;33m\u001b[0m\u001b[1;33m\u001b[0m\u001b[0m\n\u001b[0m\u001b[0;32m   2676\u001b[0m         \u001b[1;32mreturn\u001b[0m \u001b[0mfetched\u001b[0m\u001b[1;33m[\u001b[0m\u001b[1;33m:\u001b[0m\u001b[0mlen\u001b[0m\u001b[1;33m(\u001b[0m\u001b[0mself\u001b[0m\u001b[1;33m.\u001b[0m\u001b[0moutputs\u001b[0m\u001b[1;33m)\u001b[0m\u001b[1;33m]\u001b[0m\u001b[1;33m\u001b[0m\u001b[1;33m\u001b[0m\u001b[0m\n\u001b[0;32m   2677\u001b[0m \u001b[1;33m\u001b[0m\u001b[0m\n",
      "\u001b[1;32m~\\Anaconda3\\lib\\site-packages\\tensorflow\\python\\client\\session.py\u001b[0m in \u001b[0;36m__call__\u001b[1;34m(self, *args, **kwargs)\u001b[0m\n\u001b[0;32m   1437\u001b[0m           ret = tf_session.TF_SessionRunCallable(\n\u001b[0;32m   1438\u001b[0m               \u001b[0mself\u001b[0m\u001b[1;33m.\u001b[0m\u001b[0m_session\u001b[0m\u001b[1;33m.\u001b[0m\u001b[0m_session\u001b[0m\u001b[1;33m,\u001b[0m \u001b[0mself\u001b[0m\u001b[1;33m.\u001b[0m\u001b[0m_handle\u001b[0m\u001b[1;33m,\u001b[0m \u001b[0margs\u001b[0m\u001b[1;33m,\u001b[0m \u001b[0mstatus\u001b[0m\u001b[1;33m,\u001b[0m\u001b[1;33m\u001b[0m\u001b[1;33m\u001b[0m\u001b[0m\n\u001b[1;32m-> 1439\u001b[1;33m               run_metadata_ptr)\n\u001b[0m\u001b[0;32m   1440\u001b[0m         \u001b[1;32mif\u001b[0m \u001b[0mrun_metadata\u001b[0m\u001b[1;33m:\u001b[0m\u001b[1;33m\u001b[0m\u001b[1;33m\u001b[0m\u001b[0m\n\u001b[0;32m   1441\u001b[0m           \u001b[0mproto_data\u001b[0m \u001b[1;33m=\u001b[0m \u001b[0mtf_session\u001b[0m\u001b[1;33m.\u001b[0m\u001b[0mTF_GetBuffer\u001b[0m\u001b[1;33m(\u001b[0m\u001b[0mrun_metadata_ptr\u001b[0m\u001b[1;33m)\u001b[0m\u001b[1;33m\u001b[0m\u001b[1;33m\u001b[0m\u001b[0m\n",
      "\u001b[1;31mKeyboardInterrupt\u001b[0m: "
     ]
    }
   ],
   "source": [
    "fidelity = evaluator.fidelity(train, [fi_lime, fi_lionets], class_n=0)\n",
    "print(\"Train:\")\n",
    "print('  Lime fidelity:', fidelity[0][0])\n",
    "print('  LioNets fidelity:', fidelity[1][0])\n",
    "fidelity = evaluator.fidelity(valid, [fi_lime, fi_lionets], class_n=0)\n",
    "print(\"Valid:\")\n",
    "print('  Lime fidelity:', fidelity[0][0])\n",
    "print('  LioNets fidelity:', fidelity[1][0])"
   ]
  },
  {
   "cell_type": "markdown",
   "metadata": {},
   "source": [
    "Altruist Score:"
   ]
  },
  {
   "cell_type": "code",
   "execution_count": null,
   "metadata": {},
   "outputs": [],
   "source": [
    "robustness = evaluator.robustness(train,[fi_ipca, fi_GxI, fi_LRP, fi_lionets],None, [700,[50,14]])\n",
    "print(\"Train\")\n",
    "print('  iPCA Robustness:', robustness[0])\n",
    "print('  GxI Robustness:', robustness[1])\n",
    "print('  LRP Robustness:', robustness[2])\n",
    "print('  LioNets Robustness:', robustness[3])\n",
    "robustness = evaluator.robustness(valid,[fi_ipca, fi_GxI, fi_LRP, fi_lionets],None, [700,[50,14]])\n",
    "print(\"Valid:\")\n",
    "print('  iPCA Robustness:', robustness[0])\n",
    "print('  GxI Robustness:', robustness[1])\n",
    "print('  LRP Robustness:', robustness[2])\n",
    "print('  LioNets Robustness:', robustness[3])"
   ]
  },
  {
   "cell_type": "code",
   "execution_count": null,
   "metadata": {},
   "outputs": [],
   "source": [
    "def fi_lime(instance):\n",
    "    explanation, _, _, _ = explainer.explain_instance(instance, predict_fn=lime_predict, num_features=700)\n",
    "    weights = OrderedDict(explanation.as_list())\n",
    "    lime_w = dict(sorted(zip(list([int(wk) for wk in weights.keys()]), list(weights.values()))))\n",
    "    lweights = np.array([lime_w[o] for o in lime_w.keys()]).reshape((50,14))\n",
    "    weights = []\n",
    "    for i in range(14):\n",
    "        weights.append(lweights[:,i:i+1].mean())\n",
    "    return np.array(lweights)\n",
    "def fi_lionets(instance):\n",
    "    weights, res, loc_res = lionet.explain_instance(instance.reshape((50,14)),3000,transparent_model)\n",
    "    lweights = weights.reshape((50,14))\n",
    "    weights = []\n",
    "    for i in range(14):\n",
    "        weights.append(lweights[:,i:i+1].mean())\n",
    "    return np.array(lweights)"
   ]
  },
  {
   "cell_type": "code",
   "execution_count": null,
   "metadata": {},
   "outputs": [],
   "source": [
    "print(\"*Please let it run, it will take time probably*\")\n",
    "fi_names = {fi_lime:'Lime',fi_lionets:'LioNets'}\n",
    "fis = [fi_lime,fi_lionets]\n",
    "fis_scores = []\n",
    "for i in fis:\n",
    "    fis_scores.append([])\n",
    "count = 0\n",
    "feature_names = [i for i in range(14)]\n",
    "X_t = np.array([inst.reshape((700)) for inst in train])\n",
    "for instance in X_t:\n",
    "    if (count + 1) % 50 == 0:\n",
    "        print(count+1,\"/\",len(train),\"..\",end=\", \")\n",
    "    #print(len(instance))\n",
    "    count = count + 1\n",
    "    altruistino = Altruist(predictor, X_t, fis, feature_names, None, True,[50,14])\n",
    "    untruthful_features = altruistino.find_untruthful_features(instance)\n",
    "    for i in range(len(untruthful_features[0])):\n",
    "        fis_scores[i].append(len(untruthful_features[0][i]))\n",
    "count = 0\n",
    "print()\n",
    "print(\"Train:\")\n",
    "for fis_score in fis_scores:\n",
    "    fi = fis[count]\n",
    "    count = count + 1\n",
    "    print(' ',fi_names[fi],np.array(fis_score).mean())\n",
    "fi_matrix = np.array(fis_scores)\n",
    "count = 0\n",
    "fi_all = []\n",
    "for instance in X_t:\n",
    "    fi_all.append(fi_matrix[:,count].min())\n",
    "    count = count + 1\n",
    "print(\"Altogether:\",np.array(fi_all).mean())"
   ]
  },
  {
   "cell_type": "code",
   "execution_count": null,
   "metadata": {
    "scrolled": false
   },
   "outputs": [],
   "source": [
    "print(\"*Please let it run, it will take time probably*\")\n",
    "fi_names = {fi_lime:'Lime',fi_lionets:'LioNets'}\n",
    "fis = [fi_lime,fi_lionets]\n",
    "fis_scores = []\n",
    "for i in fis:\n",
    "    fis_scores.append([])\n",
    "count = 0\n",
    "feature_names = [i for i in range(14)]\n",
    "X_v = np.array([inst.reshape((700)) for inst in valid])\n",
    "for instance in X_v[:2]:\n",
    "    if (count + 1) % 50 == 0:\n",
    "        print(count+1,\"/\",len(train),\"..\",end=\", \")\n",
    "    #print(len(instance))\n",
    "    count = count + 1\n",
    "    altruistino = Altruist(predictor, X_t, fis, feature_names, None, True,[50,14])\n",
    "    untruthful_features = altruistino.find_untruthful_features(instance)\n",
    "    for i in range(len(untruthful_features[0])):\n",
    "        fis_scores[i].append(len(untruthful_features[0][i]))\n",
    "count = 0\n",
    "print()\n",
    "print(\"Valid:\")\n",
    "for fis_score in fis_scores:\n",
    "    fi = fis[count]\n",
    "    count = count + 1\n",
    "    print(' ',fi_names[fi],np.array(fis_score).mean())\n",
    "fi_matrix = np.array(fis_scores)\n",
    "count = 0\n",
    "fi_all = []\n",
    "for instance in X_t:\n",
    "    fi_all.append(fi_matrix[:,count].min())\n",
    "    count = count + 1\n",
    "print(\"Altogether:\",np.array(fi_all).mean())"
   ]
  },
  {
   "cell_type": "markdown",
   "metadata": {},
   "source": [
    "# Qualitative Experiments\n",
    "For a given example, its prediction and its interpretation, we would like to enhance it's RUL value."
   ]
  },
  {
   "cell_type": "code",
   "execution_count": null,
   "metadata": {
    "scrolled": true
   },
   "outputs": [],
   "source": [
    "temp_instance = LSTM_x_train[112].copy()\n",
    "model = Ridge(alpha=200,fit_intercept=True,random_state=0)\n",
    "weights, real_prediction, local_prediction = lionet.explain_instance(temp_instance,3000,model)"
   ]
  },
  {
   "cell_type": "code",
   "execution_count": null,
   "metadata": {},
   "outputs": [],
   "source": [
    "explanation, _, _, _ = explainer.explain_instance(temp_instance.flatten(), predict_fn=lime_predict, num_features=700)\n",
    "weights = OrderedDict(explanation.as_list())\n",
    "lime_w = dict(sorted(zip(list([int(wk) for wk in weights.keys()]), list(weights.values()))))\n",
    "lweights = np.array([lime_w[o] for o in lime_w.keys()])"
   ]
  },
  {
   "cell_type": "code",
   "execution_count": null,
   "metadata": {},
   "outputs": [],
   "source": [
    "\"Real prediction: \" + str(real_prediction)[:7] + \", Local prediction: \" + str(local_prediction)[:7]"
   ]
  },
  {
   "cell_type": "code",
   "execution_count": null,
   "metadata": {},
   "outputs": [],
   "source": [
    "target_scaler.inverse_transform(np.array([[0.08028],[0.08079]]))"
   ]
  },
  {
   "cell_type": "markdown",
   "metadata": {},
   "source": [
    "We would like to increase the RUL!"
   ]
  },
  {
   "cell_type": "markdown",
   "metadata": {},
   "source": [
    "From LioNets we acquired the weights of each sensor's measurements. Then we extract some statistics"
   ]
  },
  {
   "cell_type": "code",
   "execution_count": null,
   "metadata": {},
   "outputs": [],
   "source": [
    "sensors_all = {}\n",
    "count = 0\n",
    "for j in range(50):\n",
    "    count2 = 0\n",
    "    for i in sensors:\n",
    "        sensors_all.setdefault(i,[]).append([j, weights[count+count2], temp_instance[j][count2],\n",
    "                                             weights[count+count2]*temp_instance[j][count2]])\n",
    "        count2 = count2 + 1\n",
    "    count = count + 14\n",
    "sensors_std = []\n",
    "sensors_mean = []\n",
    "sensors_max = []\n",
    "sensors_min = []\n",
    "for i in sensors_all:\n",
    "    naa = np.array(sensors_all[i])[:,3]\n",
    "    sensors_std.append(naa.std())\n",
    "    sensors_mean.append(naa.mean())\n",
    "    sensors_max.append(naa.max())\n",
    "    sensors_min.append(naa.min())\n",
    "    #print(i, naa.mean(), naa.std(), naa.max(), naa.min())\n",
    "statistics = pd.DataFrame({\"Sensor\": list(sensors), \"Mean\": list(sensors_mean), \"STD\": list(sensors_std), \n",
    "                           \"Max\": list(sensors_max), \"Min\": list(sensors_min), \n",
    "                           \"Max-Min\": np.array(sensors_max) + np.array(sensors_min)})"
   ]
  },
  {
   "cell_type": "code",
   "execution_count": null,
   "metadata": {
    "scrolled": false
   },
   "outputs": [],
   "source": [
    "to_vis = [i[2:] for i in sensors]\n",
    "fig, axs = plt.subplots(1, 3, figsize=(14, 4), dpi=200)\n",
    "sns.barplot(to_vis,sensors_mean,ax=axs[0])\n",
    "axs[0].set_title('Mean')\n",
    "sns.barplot(to_vis,sensors_std,ax=axs[1])\n",
    "axs[1].set_title('STD')\n",
    "sns.barplot(to_vis,sensors_max,ax=axs[2])\n",
    "sns.barplot(to_vis,sensors_min,ax=axs[2])\n",
    "axs[2].set_title('Max and Min')\n",
    "fig.suptitle('Sensor Importance Statistics')\n",
    "plt.show()\n",
    "\n",
    "def plot_sensor(sens_i=1):\n",
    "    plt.figure(figsize=(14, 4), dpi=200, facecolor='w', edgecolor='k')\n",
    "    plt.subplot(131)\n",
    "    sns.lineplot(np.array(sensors_all['s_02'])[:,0],np.array(sensors_all[sensors[sens_i-1]])[:,1])\n",
    "    plt.hlines(y=np.array(sensors_all[sensors[sens_i-1]])[:,1].mean(), xmin=0, xmax=50, label='mean')\n",
    "    plt.title(str(\"Sensor\\'s \" + sensors[sens_i-1] + \" influence\"))\n",
    "    plt.subplot(132)\n",
    "    sns.lineplot(np.array(sensors_all['s_02'])[:,0],np.array(sensors_all[sensors[sens_i-1]])[:,2],color='g')\n",
    "    plt.hlines(y=np.array(sensors_all[sensors[sens_i-1]])[:,2].mean(), xmin=0, xmax=50, label='mean')\n",
    "    plt.title(str(\"Sensor\\'s \" + sensors[sens_i-1] + \" value\"))\n",
    "    plt.subplot(133)\n",
    "    sns.lineplot(np.array(sensors_all['s_02'])[:,0],np.array(sensors_all[sensors[sens_i-1]])[:,3],color='r')\n",
    "    plt.hlines(y=np.array(sensors_all[sensors[sens_i-1]])[:,3].mean(), xmin=0, xmax=50, label='mean')\n",
    "    plt.title(str(\"Sensor\\'s \" + sensors[sens_i-1] + \" influence * value\"))\n",
    "    plt.show()\n",
    "inter=interactive(plot_sensor \n",
    "   , sens_i=(1,14))\n",
    "display(inter)"
   ]
  },
  {
   "cell_type": "markdown",
   "metadata": {},
   "source": [
    "Let's modify the measurements from the s_12 sensor (number 8), which is is influencing negatively the RUL:"
   ]
  },
  {
   "cell_type": "code",
   "execution_count": null,
   "metadata": {},
   "outputs": [],
   "source": [
    "sens = 3-1\n",
    "for i in range(35,50):\n",
    "    if weights.reshape(50,14)[i:i+1,sens:sens+1][0] < -0.0005:\n",
    "        temp_instance[i:i+1,sens:sens+1][0]=temp_instance[i:i+1,sens:sens+1][0]-0.15"
   ]
  },
  {
   "cell_type": "markdown",
   "metadata": {},
   "source": [
    "Now let's test the modified instance"
   ]
  },
  {
   "cell_type": "code",
   "execution_count": null,
   "metadata": {},
   "outputs": [],
   "source": [
    "weights, real_prediction, local_prediction = lionet.explain_instance(temp_instance,3000,model)\n",
    "weights = weights * temp_instance.reshape(700)"
   ]
  },
  {
   "cell_type": "code",
   "execution_count": null,
   "metadata": {},
   "outputs": [],
   "source": [
    "\"Real prediction: \" + str(real_prediction)[:7] + \", Local prediction: \" + str(local_prediction)[:7]"
   ]
  },
  {
   "cell_type": "code",
   "execution_count": null,
   "metadata": {},
   "outputs": [],
   "source": [
    "target_scaler.inverse_transform(np.array([[0.10759],[0.10512]]))"
   ]
  },
  {
   "cell_type": "markdown",
   "metadata": {},
   "source": [
    "We managed to increase the RUL, a little. (Try and modify s_07 as well with the 12th sensor). How much does the RUL increased?"
   ]
  },
  {
   "cell_type": "code",
   "execution_count": null,
   "metadata": {},
   "outputs": [],
   "source": [
    "sensors_all = {}\n",
    "count = 0\n",
    "for j in range(50):\n",
    "    count2 = 0\n",
    "    for i in sensors:\n",
    "        sensors_all.setdefault(i,[]).append([j, weights[count+count2], temp_instance[j][count2],\n",
    "                                             weights[count+count2]*temp_instance[j][count2]])\n",
    "        count2 = count2 + 1\n",
    "    count = count + 14\n",
    "sensors_std = []\n",
    "sensors_mean = []\n",
    "sensors_max = []\n",
    "sensors_min = []\n",
    "for i in sensors_all:\n",
    "    naa = np.array(sensors_all[i])[:,3]\n",
    "    sensors_std.append(naa.std())\n",
    "    sensors_mean.append(naa.mean())\n",
    "    sensors_max.append(naa.max())\n",
    "    sensors_min.append(naa.min())\n",
    "    #print(i, naa.mean(), naa.std(), naa.max(), naa.min())\n",
    "statistics = pd.DataFrame({\"Sensor\": list(sensors), \"Mean\": list(sensors_mean), \"STD\": list(sensors_std), \n",
    "                           \"Max\": list(sensors_max), \"Min\": list(sensors_min), \n",
    "                           \"Max-Min\": np.array(sensors_max) + np.array(sensors_min)})"
   ]
  },
  {
   "cell_type": "code",
   "execution_count": null,
   "metadata": {},
   "outputs": [],
   "source": [
    "to_vis = [i[2:] for i in sensors]\n",
    "fig, axs = plt.subplots(1, 3, figsize=(14, 4), dpi=200)\n",
    "sns.barplot(to_vis,sensors_mean,ax=axs[0])\n",
    "axs[0].set_title('Mean')\n",
    "sns.barplot(to_vis,sensors_std,ax=axs[1])\n",
    "axs[1].set_title('STD')\n",
    "sns.barplot(to_vis,sensors_max,ax=axs[2])\n",
    "sns.barplot(to_vis,sensors_min,ax=axs[2])\n",
    "axs[2].set_title('Max and Min')\n",
    "fig.suptitle('Sensor Importance Statistics')\n",
    "plt.show()\n",
    "\n",
    "def plot_sensor(sens_i=1):\n",
    "    plt.figure(figsize=(14, 4), dpi=200, facecolor='w', edgecolor='k')\n",
    "    plt.subplot(131)\n",
    "    sns.lineplot(np.array(sensors_all['s_02'])[:,0],np.array(sensors_all[sensors[sens_i-1]])[:,1])\n",
    "    plt.hlines(y=np.array(sensors_all[sensors[sens_i-1]])[:,1].mean(), xmin=0, xmax=50, label='mean')\n",
    "    plt.title(str(\"Sensor\\'s \" + sensors[sens_i-1] + \" influence\"))\n",
    "    plt.subplot(132)\n",
    "    sns.lineplot(np.array(sensors_all['s_02'])[:,0],np.array(sensors_all[sensors[sens_i-1]])[:,2],color='g')\n",
    "    plt.hlines(y=np.array(sensors_all[sensors[sens_i-1]])[:,2].mean(), xmin=0, xmax=50, label='mean')\n",
    "    plt.title(str(\"Sensor\\'s \" + sensors[sens_i-1] + \" value\"))\n",
    "    plt.subplot(133)\n",
    "    sns.lineplot(np.array(sensors_all['s_02'])[:,0],np.array(sensors_all[sensors[sens_i-1]])[:,3],color='r')\n",
    "    plt.hlines(y=np.array(sensors_all[sensors[sens_i-1]])[:,3].mean(), xmin=0, xmax=50, label='mean')\n",
    "    plt.title(str(\"Sensor\\'s \" + sensors[sens_i-1] + \" influence * value\"))\n",
    "    plt.show()\n",
    "inter=interactive(plot_sensor \n",
    "   , sens_i=(1,14))\n",
    "display(inter)"
   ]
  },
  {
   "cell_type": "markdown",
   "metadata": {},
   "source": [
    "Try for another instance, and play with the plots :) Thanks for using LioNets.\n",
    "\n",
    "For any question contact us at GitHub repo: https://github.com/intelligence-csd-auth-gr/LionLearn.git\n",
    "\n",
    "or at our lab's website: https://intelligence.csd.auth.gr"
   ]
  },
  {
   "cell_type": "code",
   "execution_count": null,
   "metadata": {},
   "outputs": [],
   "source": [
    "# Plotting the figures \n",
    "#         expected = self.expected_sens_stats if mod==9 and rd_btn_xyz7 else [None]*4\n",
    "            \n",
    "        if iml_method == 'LioNets':\n",
    "            fig, axs = plt.subplots(1, 3, figsize=(18, 4), dpi=200)\n",
    "            if mod==9 and rd_btn_xyz7:\n",
    "                self.plot_bar_chart(axs[0], self.original_sens_stats[0], self.mod_sens_stats[0], self.expected_sens_stats[0])\n",
    "                self.plot_bar_chart(axs[1], self.original_sens_stats[1], self.mod_sens_stats[1], self.expected_sens_stats[1])\n",
    "                self.plot_bar_chart(axs[2], self.original_sens_stats[2], self.mod_sens_stats[2], self.expected_sens_stats[2])\n",
    "                self.plot_bar_chart(axs[2], self.original_sens_stats[3], self.mod_sens_stats[3], self.expected_sens_stats[3])\n",
    "            else:\n",
    "                self.plot_bar_chart(axs[0], self.original_sens_stats[0], self.mod_sens_stats[0])\n",
    "                self.plot_bar_chart(axs[1], self.original_sens_stats[1], self.mod_sens_stats[1])\n",
    "                self.plot_bar_chart(axs[2], self.original_sens_stats[2], self.mod_sens_stats[2])\n",
    "                self.plot_bar_chart(axs[2], self.original_sens_stats[3], self.mod_sens_stats[3])\n",
    "            axs[0].set_title('Mean')\n",
    "            axs[1].set_title('STD')\n",
    "            axs[2].set_title('Max and Min')\n",
    "            plt.show()\n",
    "            \n",
    "        else:\n",
    "            fig, axs  = plt.subplots(1,3,figsize=(18, 4))\n",
    "            self.plot_bar_chart(axs[1], self.original_sens_stats, self.mod_sens_stats, self.expected_sens_stats)\n",
    "            axs[1].set_title('Sensor Importance ')\n",
    "            axs[0].axis('off')\n",
    "            \n",
    "def plot_bar_chart(self, axs, a, b, c=[]):\n",
    "        to_vis = [i[2:] for i in self.sensors]\n",
    "        ind = np.arange(len(to_vis))\n",
    "        w = 0.5\n",
    "        \n",
    "        if c==[]:\n",
    "            colors = ['C0', 'C1']\n",
    "            labels = ('Οriginal','Modded')\n",
    "            for x, ha, hb in zip(ind , a, b):\n",
    "                for i, (s, c) in enumerate(sorted(zip([ha, hb], colors))):\n",
    "                    axs.bar(x, s, color=c, zorder=-i)\n",
    "            axs.set_xticklabels(to_vis)\n",
    "        else:\n",
    "            colors = ['C0', 'C1', 'C2']\n",
    "            labels = ('Οriginal','Modded','Expected')\n",
    "            for x, za, zb, zc in zip(ind, a, b, c):\n",
    "                for i, (s, c) in enumerate(sorted(zip([za, zb, zc], colors))):\n",
    "                    axs.bar(x, s, color=c, zorder=-i)\n",
    "            axs.set_xticklabels(to_vis)\n",
    "        return axs"
   ]
  },
  {
   "cell_type": "code",
   "execution_count": null,
   "metadata": {},
   "outputs": [],
   "source": []
  }
 ],
 "metadata": {
  "kernelspec": {
   "display_name": "Python 3",
   "language": "python",
   "name": "python3"
  },
  "language_info": {
   "codemirror_mode": {
    "name": "ipython",
    "version": 3
   },
   "file_extension": ".py",
   "mimetype": "text/x-python",
   "name": "python",
   "nbconvert_exporter": "python",
   "pygments_lexer": "ipython3",
   "version": "3.7.4"
  }
 },
 "nbformat": 4,
 "nbformat_minor": 2
}